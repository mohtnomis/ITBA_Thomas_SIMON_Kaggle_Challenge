{
 "cells": [
  {
   "cell_type": "markdown",
   "id": "254e5ce4",
   "metadata": {},
   "source": [
    "# ITBA 82.05 - Análisis Predictivo - Kaggle Challenge : Submission of a predictive model - Thomas SIMON \n",
    "\n",
    "## Introduction\n",
    "\n",
    "This project is part of ITBA's 82.05 - Análisis Predictivo course for the 2023 academic year. It corresponds to the second exam of this course and aims to assess the ability to understand and analyze a dataset and to set up different models in order to best predict a given variable to be explained from this dataset. Two datasets are available: a first containing the variable to be explained and a second similar to the first but not containing it. The aim of this work is to obtain an output prediction of the variable to be explained for the second dataset, which will then be compared with the actual results and from which an R-squared statistic will be calculated. The aim is to obtain the highest possible R-squared.\n",
    "\n",
    "After importing the packages needed for this work, the data will be processed to obtain a cleaned dataset that can be easily manipulated by prediction models (execution time will be taken into account). "
   ]
  },
  {
   "cell_type": "code",
   "execution_count": 3,
   "id": "58e65c03",
   "metadata": {},
   "outputs": [],
   "source": [
    "import pandas as pd\n",
    "import numpy as np\n",
    "import matplotlib.pyplot as plt\n",
    "import seaborn as sns\n",
    "from sklearn.model_selection import train_test_split\n",
    "from sklearn.preprocessing import StandardScaler\n",
    "from sklearn.pipeline import Pipeline\n",
    "from sklearn.preprocessing import MinMaxScaler\n",
    "from sklearn.neighbors import KNeighborsClassifier\n",
    "from sklearn.metrics import accuracy_score, confusion_matrix\n",
    "from sklearn.model_selection import GridSearchCV, PredefinedSplit\n",
    "from sklearn.model_selection import RandomizedSearchCV,train_test_split\n",
    "from sklearn.datasets import make_classification\n",
    "from sklearn.ensemble import RandomForestClassifier\n",
    "from sklearn.model_selection import GridSearchCV, StratifiedKFold\n",
    "from sklearn.metrics import (\n",
    "    f1_score, accuracy_score, precision_score, confusion_matrix, \n",
    "    classification_report, make_scorer, ConfusionMatrixDisplay, \n",
    ")\n",
    "from sklearn.linear_model import LinearRegression\n",
    "from sklearn.metrics import mean_squared_error\n",
    "from sklearn.metrics import r2_score\n",
    "from sklearn.ensemble import AdaBoostRegressor\n",
    "from sklearn.tree import DecisionTreeRegressor\n",
    "from sklearn.ensemble import GradientBoostingRegressor\n",
    "from sklearn.ensemble import RandomForestRegressor\n",
    "from sklearn.svm import SVR\n",
    "from sklearn.preprocessing import OneHotEncoder, OrdinalEncoder\n",
    "import category_encoders as ce"
   ]
  },
  {
   "cell_type": "markdown",
   "id": "08af1052",
   "metadata": {},
   "source": [
    "## Data visualization and cleaning\n",
    "\n",
    "The first thing to do is to load and visualize the proposed data. To do this, two dataframes are created: a first dataframe \"origen.csv\" corresponding to the dataset containing the variable to be explained, and a second \"testear.csv\" corresponding to the dataset not containing it. These two datasets are reused and keep the same name. The first step is to visualize the data."
   ]
  },
  {
   "cell_type": "code",
   "execution_count": 4,
   "id": "88dfec76",
   "metadata": {},
   "outputs": [],
   "source": [
    "origen = pd.read_csv('/Users/thomassim0n/Desktop/INSA SCIENCES-PO/Mobilité/Cours/Analysis Pred/Kaggle/origen.csv')\n",
    "testear = pd.read_csv('/Users/thomassim0n/Desktop/INSA SCIENCES-PO/Mobilité/Cours/Analysis Pred/Kaggle/testear.csv')"
   ]
  },
  {
   "cell_type": "code",
   "execution_count": 5,
   "id": "66e89dd1",
   "metadata": {},
   "outputs": [
    {
     "data": {
      "text/html": [
       "<div>\n",
       "<style scoped>\n",
       "    .dataframe tbody tr th:only-of-type {\n",
       "        vertical-align: middle;\n",
       "    }\n",
       "\n",
       "    .dataframe tbody tr th {\n",
       "        vertical-align: top;\n",
       "    }\n",
       "\n",
       "    .dataframe thead th {\n",
       "        text-align: right;\n",
       "    }\n",
       "</style>\n",
       "<table border=\"1\" class=\"dataframe\">\n",
       "  <thead>\n",
       "    <tr style=\"text-align: right;\">\n",
       "      <th></th>\n",
       "      <th>Unnamed: 0</th>\n",
       "      <th>averageRating</th>\n",
       "      <th>numVotes</th>\n",
       "      <th>titleType</th>\n",
       "      <th>isAdult</th>\n",
       "      <th>startYear</th>\n",
       "      <th>endYear</th>\n",
       "      <th>runtimeMinutes</th>\n",
       "      <th>genres_x</th>\n",
       "      <th>directors</th>\n",
       "      <th>...</th>\n",
       "      <th>genres_y</th>\n",
       "      <th>original_language</th>\n",
       "      <th>popularity</th>\n",
       "      <th>production_companies</th>\n",
       "      <th>production_countries</th>\n",
       "      <th>revenue</th>\n",
       "      <th>runtime</th>\n",
       "      <th>status</th>\n",
       "      <th>tagline</th>\n",
       "      <th>video</th>\n",
       "    </tr>\n",
       "  </thead>\n",
       "  <tbody>\n",
       "    <tr>\n",
       "      <th>0</th>\n",
       "      <td>0</td>\n",
       "      <td>4.4</td>\n",
       "      <td>15</td>\n",
       "      <td>movie</td>\n",
       "      <td>0.0</td>\n",
       "      <td>1951</td>\n",
       "      <td>0</td>\n",
       "      <td>91</td>\n",
       "      <td>Comedy,Musical</td>\n",
       "      <td>nm0883334</td>\n",
       "      <td>...</td>\n",
       "      <td>NaN</td>\n",
       "      <td>NaN</td>\n",
       "      <td>NaN</td>\n",
       "      <td>NaN</td>\n",
       "      <td>NaN</td>\n",
       "      <td>NaN</td>\n",
       "      <td>NaN</td>\n",
       "      <td>NaN</td>\n",
       "      <td>NaN</td>\n",
       "      <td>NaN</td>\n",
       "    </tr>\n",
       "    <tr>\n",
       "      <th>1</th>\n",
       "      <td>1</td>\n",
       "      <td>7.0</td>\n",
       "      <td>990</td>\n",
       "      <td>tvSeries</td>\n",
       "      <td>0.0</td>\n",
       "      <td>2007</td>\n",
       "      <td>2021</td>\n",
       "      <td>30</td>\n",
       "      <td>Action,Adventure,Animation</td>\n",
       "      <td>nm2291816,nm3088555,nm4930005,nm1746040</td>\n",
       "      <td>...</td>\n",
       "      <td>NaN</td>\n",
       "      <td>NaN</td>\n",
       "      <td>NaN</td>\n",
       "      <td>NaN</td>\n",
       "      <td>NaN</td>\n",
       "      <td>NaN</td>\n",
       "      <td>NaN</td>\n",
       "      <td>NaN</td>\n",
       "      <td>NaN</td>\n",
       "      <td>NaN</td>\n",
       "    </tr>\n",
       "    <tr>\n",
       "      <th>2</th>\n",
       "      <td>2</td>\n",
       "      <td>8.1</td>\n",
       "      <td>41</td>\n",
       "      <td>tvEpisode</td>\n",
       "      <td>0.0</td>\n",
       "      <td>2011</td>\n",
       "      <td>0</td>\n",
       "      <td>44</td>\n",
       "      <td>Documentary,History,War</td>\n",
       "      <td>nm0414025</td>\n",
       "      <td>...</td>\n",
       "      <td>NaN</td>\n",
       "      <td>NaN</td>\n",
       "      <td>NaN</td>\n",
       "      <td>NaN</td>\n",
       "      <td>NaN</td>\n",
       "      <td>NaN</td>\n",
       "      <td>NaN</td>\n",
       "      <td>NaN</td>\n",
       "      <td>NaN</td>\n",
       "      <td>NaN</td>\n",
       "    </tr>\n",
       "    <tr>\n",
       "      <th>3</th>\n",
       "      <td>3</td>\n",
       "      <td>4.6</td>\n",
       "      <td>48</td>\n",
       "      <td>movie</td>\n",
       "      <td>0.0</td>\n",
       "      <td>1969</td>\n",
       "      <td>0</td>\n",
       "      <td>84</td>\n",
       "      <td>Drama</td>\n",
       "      <td>nm2977268</td>\n",
       "      <td>...</td>\n",
       "      <td>NaN</td>\n",
       "      <td>NaN</td>\n",
       "      <td>NaN</td>\n",
       "      <td>NaN</td>\n",
       "      <td>NaN</td>\n",
       "      <td>NaN</td>\n",
       "      <td>NaN</td>\n",
       "      <td>NaN</td>\n",
       "      <td>NaN</td>\n",
       "      <td>NaN</td>\n",
       "    </tr>\n",
       "    <tr>\n",
       "      <th>4</th>\n",
       "      <td>4</td>\n",
       "      <td>5.6</td>\n",
       "      <td>28</td>\n",
       "      <td>movie</td>\n",
       "      <td>0.0</td>\n",
       "      <td>2010</td>\n",
       "      <td>0</td>\n",
       "      <td>130</td>\n",
       "      <td>Comedy,Drama</td>\n",
       "      <td>nm2366663</td>\n",
       "      <td>...</td>\n",
       "      <td>NaN</td>\n",
       "      <td>NaN</td>\n",
       "      <td>NaN</td>\n",
       "      <td>NaN</td>\n",
       "      <td>NaN</td>\n",
       "      <td>NaN</td>\n",
       "      <td>NaN</td>\n",
       "      <td>NaN</td>\n",
       "      <td>NaN</td>\n",
       "      <td>NaN</td>\n",
       "    </tr>\n",
       "  </tbody>\n",
       "</table>\n",
       "<p>5 rows × 29 columns</p>\n",
       "</div>"
      ],
      "text/plain": [
       "   Unnamed: 0  averageRating  numVotes  titleType  isAdult  startYear  \\\n",
       "0           0            4.4        15      movie      0.0       1951   \n",
       "1           1            7.0       990   tvSeries      0.0       2007   \n",
       "2           2            8.1        41  tvEpisode      0.0       2011   \n",
       "3           3            4.6        48      movie      0.0       1969   \n",
       "4           4            5.6        28      movie      0.0       2010   \n",
       "\n",
       "   endYear  runtimeMinutes                    genres_x  \\\n",
       "0        0              91              Comedy,Musical   \n",
       "1     2021              30  Action,Adventure,Animation   \n",
       "2        0              44     Documentary,History,War   \n",
       "3        0              84                       Drama   \n",
       "4        0             130                Comedy,Drama   \n",
       "\n",
       "                                 directors  ... genres_y  original_language  \\\n",
       "0                                nm0883334  ...      NaN                NaN   \n",
       "1  nm2291816,nm3088555,nm4930005,nm1746040  ...      NaN                NaN   \n",
       "2                                nm0414025  ...      NaN                NaN   \n",
       "3                                nm2977268  ...      NaN                NaN   \n",
       "4                                nm2366663  ...      NaN                NaN   \n",
       "\n",
       "   popularity  production_companies production_countries revenue  runtime  \\\n",
       "0         NaN                   NaN                  NaN     NaN      NaN   \n",
       "1         NaN                   NaN                  NaN     NaN      NaN   \n",
       "2         NaN                   NaN                  NaN     NaN      NaN   \n",
       "3         NaN                   NaN                  NaN     NaN      NaN   \n",
       "4         NaN                   NaN                  NaN     NaN      NaN   \n",
       "\n",
       "  status  tagline video  \n",
       "0    NaN      NaN   NaN  \n",
       "1    NaN      NaN   NaN  \n",
       "2    NaN      NaN   NaN  \n",
       "3    NaN      NaN   NaN  \n",
       "4    NaN      NaN   NaN  \n",
       "\n",
       "[5 rows x 29 columns]"
      ]
     },
     "execution_count": 5,
     "metadata": {},
     "output_type": "execute_result"
    }
   ],
   "source": [
    "origen.head()"
   ]
  },
  {
   "cell_type": "code",
   "execution_count": 6,
   "id": "7f157a9e",
   "metadata": {},
   "outputs": [
    {
     "data": {
      "text/html": [
       "<div>\n",
       "<style scoped>\n",
       "    .dataframe tbody tr th:only-of-type {\n",
       "        vertical-align: middle;\n",
       "    }\n",
       "\n",
       "    .dataframe tbody tr th {\n",
       "        vertical-align: top;\n",
       "    }\n",
       "\n",
       "    .dataframe thead th {\n",
       "        text-align: right;\n",
       "    }\n",
       "</style>\n",
       "<table border=\"1\" class=\"dataframe\">\n",
       "  <thead>\n",
       "    <tr style=\"text-align: right;\">\n",
       "      <th></th>\n",
       "      <th>Unnamed: 0</th>\n",
       "      <th>numVotes</th>\n",
       "      <th>titleType</th>\n",
       "      <th>isAdult</th>\n",
       "      <th>startYear</th>\n",
       "      <th>endYear</th>\n",
       "      <th>runtimeMinutes</th>\n",
       "      <th>genres_x</th>\n",
       "      <th>directors</th>\n",
       "      <th>writers</th>\n",
       "      <th>...</th>\n",
       "      <th>genres_y</th>\n",
       "      <th>original_language</th>\n",
       "      <th>popularity</th>\n",
       "      <th>production_companies</th>\n",
       "      <th>production_countries</th>\n",
       "      <th>revenue</th>\n",
       "      <th>runtime</th>\n",
       "      <th>status</th>\n",
       "      <th>tagline</th>\n",
       "      <th>video</th>\n",
       "    </tr>\n",
       "  </thead>\n",
       "  <tbody>\n",
       "    <tr>\n",
       "      <th>0</th>\n",
       "      <td>0</td>\n",
       "      <td>10</td>\n",
       "      <td>tvEpisode</td>\n",
       "      <td>0.0</td>\n",
       "      <td>1980</td>\n",
       "      <td>0</td>\n",
       "      <td>0</td>\n",
       "      <td>Drama,Family,Fantasy</td>\n",
       "      <td>0</td>\n",
       "      <td>nm0416721</td>\n",
       "      <td>...</td>\n",
       "      <td>NaN</td>\n",
       "      <td>NaN</td>\n",
       "      <td>NaN</td>\n",
       "      <td>NaN</td>\n",
       "      <td>NaN</td>\n",
       "      <td>NaN</td>\n",
       "      <td>NaN</td>\n",
       "      <td>NaN</td>\n",
       "      <td>NaN</td>\n",
       "      <td>NaN</td>\n",
       "    </tr>\n",
       "    <tr>\n",
       "      <th>1</th>\n",
       "      <td>1</td>\n",
       "      <td>17</td>\n",
       "      <td>tvEpisode</td>\n",
       "      <td>0.0</td>\n",
       "      <td>2014</td>\n",
       "      <td>0</td>\n",
       "      <td>0</td>\n",
       "      <td>Drama,War</td>\n",
       "      <td>nm1573573</td>\n",
       "      <td>nm0208548,nm2952524,nm0429741,nm0894424</td>\n",
       "      <td>...</td>\n",
       "      <td>NaN</td>\n",
       "      <td>NaN</td>\n",
       "      <td>NaN</td>\n",
       "      <td>NaN</td>\n",
       "      <td>NaN</td>\n",
       "      <td>NaN</td>\n",
       "      <td>NaN</td>\n",
       "      <td>NaN</td>\n",
       "      <td>NaN</td>\n",
       "      <td>NaN</td>\n",
       "    </tr>\n",
       "    <tr>\n",
       "      <th>2</th>\n",
       "      <td>2</td>\n",
       "      <td>7</td>\n",
       "      <td>tvEpisode</td>\n",
       "      <td>0.0</td>\n",
       "      <td>2004</td>\n",
       "      <td>0</td>\n",
       "      <td>0</td>\n",
       "      <td>Music</td>\n",
       "      <td>0</td>\n",
       "      <td>0</td>\n",
       "      <td>...</td>\n",
       "      <td>NaN</td>\n",
       "      <td>NaN</td>\n",
       "      <td>NaN</td>\n",
       "      <td>NaN</td>\n",
       "      <td>NaN</td>\n",
       "      <td>NaN</td>\n",
       "      <td>NaN</td>\n",
       "      <td>NaN</td>\n",
       "      <td>NaN</td>\n",
       "      <td>NaN</td>\n",
       "    </tr>\n",
       "    <tr>\n",
       "      <th>3</th>\n",
       "      <td>3</td>\n",
       "      <td>297</td>\n",
       "      <td>tvEpisode</td>\n",
       "      <td>0.0</td>\n",
       "      <td>2002</td>\n",
       "      <td>0</td>\n",
       "      <td>30</td>\n",
       "      <td>Comedy</td>\n",
       "      <td>nm0952360</td>\n",
       "      <td>nm0742814,nm0804887,nm0005380</td>\n",
       "      <td>...</td>\n",
       "      <td>NaN</td>\n",
       "      <td>NaN</td>\n",
       "      <td>NaN</td>\n",
       "      <td>NaN</td>\n",
       "      <td>NaN</td>\n",
       "      <td>NaN</td>\n",
       "      <td>NaN</td>\n",
       "      <td>NaN</td>\n",
       "      <td>NaN</td>\n",
       "      <td>NaN</td>\n",
       "    </tr>\n",
       "    <tr>\n",
       "      <th>4</th>\n",
       "      <td>4</td>\n",
       "      <td>10</td>\n",
       "      <td>tvEpisode</td>\n",
       "      <td>0.0</td>\n",
       "      <td>2016</td>\n",
       "      <td>0</td>\n",
       "      <td>23</td>\n",
       "      <td>Animation,Comedy,Crime</td>\n",
       "      <td>nm2268014</td>\n",
       "      <td>nm1138389</td>\n",
       "      <td>...</td>\n",
       "      <td>NaN</td>\n",
       "      <td>NaN</td>\n",
       "      <td>NaN</td>\n",
       "      <td>NaN</td>\n",
       "      <td>NaN</td>\n",
       "      <td>NaN</td>\n",
       "      <td>NaN</td>\n",
       "      <td>NaN</td>\n",
       "      <td>NaN</td>\n",
       "      <td>NaN</td>\n",
       "    </tr>\n",
       "  </tbody>\n",
       "</table>\n",
       "<p>5 rows × 28 columns</p>\n",
       "</div>"
      ],
      "text/plain": [
       "   Unnamed: 0  numVotes  titleType  isAdult  startYear  endYear  \\\n",
       "0           0        10  tvEpisode      0.0       1980        0   \n",
       "1           1        17  tvEpisode      0.0       2014        0   \n",
       "2           2         7  tvEpisode      0.0       2004        0   \n",
       "3           3       297  tvEpisode      0.0       2002        0   \n",
       "4           4        10  tvEpisode      0.0       2016        0   \n",
       "\n",
       "   runtimeMinutes                genres_x  directors  \\\n",
       "0               0    Drama,Family,Fantasy          0   \n",
       "1               0               Drama,War  nm1573573   \n",
       "2               0                   Music          0   \n",
       "3              30                  Comedy  nm0952360   \n",
       "4              23  Animation,Comedy,Crime  nm2268014   \n",
       "\n",
       "                                   writers  ...  genres_y  original_language  \\\n",
       "0                                nm0416721  ...       NaN                NaN   \n",
       "1  nm0208548,nm2952524,nm0429741,nm0894424  ...       NaN                NaN   \n",
       "2                                        0  ...       NaN                NaN   \n",
       "3            nm0742814,nm0804887,nm0005380  ...       NaN                NaN   \n",
       "4                                nm1138389  ...       NaN                NaN   \n",
       "\n",
       "   popularity production_companies production_countries  revenue runtime  \\\n",
       "0         NaN                  NaN                  NaN      NaN     NaN   \n",
       "1         NaN                  NaN                  NaN      NaN     NaN   \n",
       "2         NaN                  NaN                  NaN      NaN     NaN   \n",
       "3         NaN                  NaN                  NaN      NaN     NaN   \n",
       "4         NaN                  NaN                  NaN      NaN     NaN   \n",
       "\n",
       "   status tagline video  \n",
       "0     NaN     NaN   NaN  \n",
       "1     NaN     NaN   NaN  \n",
       "2     NaN     NaN   NaN  \n",
       "3     NaN     NaN   NaN  \n",
       "4     NaN     NaN   NaN  \n",
       "\n",
       "[5 rows x 28 columns]"
      ]
     },
     "execution_count": 6,
     "metadata": {},
     "output_type": "execute_result"
    }
   ],
   "source": [
    "testear.head()"
   ]
  },
  {
   "cell_type": "code",
   "execution_count": 7,
   "id": "3e9d85b0",
   "metadata": {},
   "outputs": [
    {
     "name": "stdout",
     "output_type": "stream",
     "text": [
      "<class 'pandas.core.frame.DataFrame'>\n",
      "RangeIndex: 977541 entries, 0 to 977540\n",
      "Data columns (total 29 columns):\n",
      " #   Column                Non-Null Count   Dtype  \n",
      "---  ------                --------------   -----  \n",
      " 0   Unnamed: 0            977541 non-null  int64  \n",
      " 1   averageRating         977541 non-null  float64\n",
      " 2   numVotes              977541 non-null  int64  \n",
      " 3   titleType             977541 non-null  object \n",
      " 4   isAdult               977541 non-null  float64\n",
      " 5   startYear             977541 non-null  int64  \n",
      " 6   endYear               977541 non-null  int64  \n",
      " 7   runtimeMinutes        977541 non-null  int64  \n",
      " 8   genres_x              977539 non-null  object \n",
      " 9   directors             977541 non-null  object \n",
      " 10  writers               977541 non-null  object \n",
      " 11  seasonNumber          438243 non-null  float64\n",
      " 12  episodeNumber         438243 non-null  float64\n",
      " 13  ordering              370623 non-null  float64\n",
      " 14  language              370623 non-null  object \n",
      " 15  attributes            370623 non-null  object \n",
      " 16  isOriginalTitle       370623 non-null  float64\n",
      " 17  adult                 47370 non-null   object \n",
      " 18  budget                47370 non-null   float64\n",
      " 19  genres_y              47370 non-null   object \n",
      " 20  original_language     47358 non-null   object \n",
      " 21  popularity            47369 non-null   float64\n",
      " 22  production_companies  47369 non-null   object \n",
      " 23  production_countries  47369 non-null   object \n",
      " 24  revenue               47369 non-null   float64\n",
      " 25  runtime               47158 non-null   float64\n",
      " 26  status                47299 non-null   object \n",
      " 27  tagline               23845 non-null   object \n",
      " 28  video                 47369 non-null   object \n",
      "dtypes: float64(10), int64(5), object(14)\n",
      "memory usage: 216.3+ MB\n"
     ]
    }
   ],
   "source": [
    "origen.info()"
   ]
  },
  {
   "cell_type": "code",
   "execution_count": 8,
   "id": "a41c0631",
   "metadata": {},
   "outputs": [
    {
     "name": "stdout",
     "output_type": "stream",
     "text": [
      "<class 'pandas.core.frame.DataFrame'>\n",
      "RangeIndex: 244386 entries, 0 to 244385\n",
      "Data columns (total 28 columns):\n",
      " #   Column                Non-Null Count   Dtype  \n",
      "---  ------                --------------   -----  \n",
      " 0   Unnamed: 0            244386 non-null  int64  \n",
      " 1   numVotes              244386 non-null  int64  \n",
      " 2   titleType             244386 non-null  object \n",
      " 3   isAdult               244386 non-null  float64\n",
      " 4   startYear             244386 non-null  int64  \n",
      " 5   endYear               244386 non-null  int64  \n",
      " 6   runtimeMinutes        244386 non-null  int64  \n",
      " 7   genres_x              244386 non-null  object \n",
      " 8   directors             244386 non-null  object \n",
      " 9   writers               244386 non-null  object \n",
      " 10  seasonNumber          109388 non-null  float64\n",
      " 11  episodeNumber         109388 non-null  float64\n",
      " 12  ordering              92817 non-null   float64\n",
      " 13  language              92817 non-null   object \n",
      " 14  attributes            92817 non-null   object \n",
      " 15  isOriginalTitle       92817 non-null   float64\n",
      " 16  adult                 11777 non-null   object \n",
      " 17  budget                11777 non-null   float64\n",
      " 18  genres_y              11777 non-null   object \n",
      " 19  original_language     11775 non-null   object \n",
      " 20  popularity            11775 non-null   float64\n",
      " 21  production_companies  11775 non-null   object \n",
      " 22  production_countries  11775 non-null   object \n",
      " 23  revenue               11775 non-null   float64\n",
      " 24  runtime               11729 non-null   float64\n",
      " 25  status                11757 non-null   object \n",
      " 26  tagline               6006 non-null    object \n",
      " 27  video                 11775 non-null   object \n",
      "dtypes: float64(9), int64(5), object(14)\n",
      "memory usage: 52.2+ MB\n"
     ]
    }
   ],
   "source": [
    "testear.info()"
   ]
  },
  {
   "cell_type": "code",
   "execution_count": 9,
   "id": "f9a6f3e5",
   "metadata": {},
   "outputs": [
    {
     "data": {
      "text/html": [
       "<div>\n",
       "<style scoped>\n",
       "    .dataframe tbody tr th:only-of-type {\n",
       "        vertical-align: middle;\n",
       "    }\n",
       "\n",
       "    .dataframe tbody tr th {\n",
       "        vertical-align: top;\n",
       "    }\n",
       "\n",
       "    .dataframe thead th {\n",
       "        text-align: right;\n",
       "    }\n",
       "</style>\n",
       "<table border=\"1\" class=\"dataframe\">\n",
       "  <thead>\n",
       "    <tr style=\"text-align: right;\">\n",
       "      <th></th>\n",
       "      <th>Unnamed: 0</th>\n",
       "      <th>averageRating</th>\n",
       "      <th>numVotes</th>\n",
       "      <th>isAdult</th>\n",
       "      <th>startYear</th>\n",
       "      <th>endYear</th>\n",
       "      <th>runtimeMinutes</th>\n",
       "      <th>seasonNumber</th>\n",
       "      <th>episodeNumber</th>\n",
       "      <th>ordering</th>\n",
       "      <th>isOriginalTitle</th>\n",
       "      <th>budget</th>\n",
       "      <th>popularity</th>\n",
       "      <th>revenue</th>\n",
       "      <th>runtime</th>\n",
       "    </tr>\n",
       "  </thead>\n",
       "  <tbody>\n",
       "    <tr>\n",
       "      <th>count</th>\n",
       "      <td>977541.000000</td>\n",
       "      <td>977541.000000</td>\n",
       "      <td>9.775410e+05</td>\n",
       "      <td>977541.000000</td>\n",
       "      <td>977541.000000</td>\n",
       "      <td>977541.000000</td>\n",
       "      <td>977541.000000</td>\n",
       "      <td>438243.000000</td>\n",
       "      <td>438243.000000</td>\n",
       "      <td>370623.000000</td>\n",
       "      <td>370623.000000</td>\n",
       "      <td>4.737000e+04</td>\n",
       "      <td>47369.000000</td>\n",
       "      <td>4.736900e+04</td>\n",
       "      <td>47158.000000</td>\n",
       "    </tr>\n",
       "    <tr>\n",
       "      <th>mean</th>\n",
       "      <td>488770.000000</td>\n",
       "      <td>6.881764</td>\n",
       "      <td>1.625621e+03</td>\n",
       "      <td>0.023017</td>\n",
       "      <td>1999.356151</td>\n",
       "      <td>58.196713</td>\n",
       "      <td>41.363622</td>\n",
       "      <td>4.061229</td>\n",
       "      <td>55.341327</td>\n",
       "      <td>3.479414</td>\n",
       "      <td>0.000019</td>\n",
       "      <td>6.180242e+06</td>\n",
       "      <td>3.433752</td>\n",
       "      <td>1.843587e+07</td>\n",
       "      <td>94.437508</td>\n",
       "    </tr>\n",
       "    <tr>\n",
       "      <th>std</th>\n",
       "      <td>282191.924082</td>\n",
       "      <td>1.405315</td>\n",
       "      <td>2.509798e+04</td>\n",
       "      <td>2.888235</td>\n",
       "      <td>34.362292</td>\n",
       "      <td>336.455028</td>\n",
       "      <td>57.788808</td>\n",
       "      <td>12.336583</td>\n",
       "      <td>585.538414</td>\n",
       "      <td>5.148422</td>\n",
       "      <td>0.004346</td>\n",
       "      <td>2.309356e+07</td>\n",
       "      <td>7.120486</td>\n",
       "      <td>9.294434e+07</td>\n",
       "      <td>36.021579</td>\n",
       "    </tr>\n",
       "    <tr>\n",
       "      <th>min</th>\n",
       "      <td>0.000000</td>\n",
       "      <td>1.000000</td>\n",
       "      <td>5.000000e+00</td>\n",
       "      <td>0.000000</td>\n",
       "      <td>0.000000</td>\n",
       "      <td>0.000000</td>\n",
       "      <td>-22336.000000</td>\n",
       "      <td>0.000000</td>\n",
       "      <td>0.000000</td>\n",
       "      <td>1.000000</td>\n",
       "      <td>0.000000</td>\n",
       "      <td>0.000000e+00</td>\n",
       "      <td>0.000000</td>\n",
       "      <td>0.000000e+00</td>\n",
       "      <td>0.000000</td>\n",
       "    </tr>\n",
       "    <tr>\n",
       "      <th>25%</th>\n",
       "      <td>244385.000000</td>\n",
       "      <td>6.100000</td>\n",
       "      <td>9.000000e+00</td>\n",
       "      <td>0.000000</td>\n",
       "      <td>1992.000000</td>\n",
       "      <td>0.000000</td>\n",
       "      <td>0.000000</td>\n",
       "      <td>1.000000</td>\n",
       "      <td>4.000000</td>\n",
       "      <td>1.000000</td>\n",
       "      <td>0.000000</td>\n",
       "      <td>0.000000e+00</td>\n",
       "      <td>0.442903</td>\n",
       "      <td>0.000000e+00</td>\n",
       "      <td>85.000000</td>\n",
       "    </tr>\n",
       "    <tr>\n",
       "      <th>50%</th>\n",
       "      <td>488770.000000</td>\n",
       "      <td>7.100000</td>\n",
       "      <td>2.200000e+01</td>\n",
       "      <td>0.000000</td>\n",
       "      <td>2008.000000</td>\n",
       "      <td>0.000000</td>\n",
       "      <td>27.000000</td>\n",
       "      <td>2.000000</td>\n",
       "      <td>8.000000</td>\n",
       "      <td>2.000000</td>\n",
       "      <td>0.000000</td>\n",
       "      <td>0.000000e+00</td>\n",
       "      <td>1.282498</td>\n",
       "      <td>0.000000e+00</td>\n",
       "      <td>95.000000</td>\n",
       "    </tr>\n",
       "    <tr>\n",
       "      <th>75%</th>\n",
       "      <td>733155.000000</td>\n",
       "      <td>7.900000</td>\n",
       "      <td>9.300000e+01</td>\n",
       "      <td>0.000000</td>\n",
       "      <td>2015.000000</td>\n",
       "      <td>0.000000</td>\n",
       "      <td>73.000000</td>\n",
       "      <td>4.000000</td>\n",
       "      <td>16.000000</td>\n",
       "      <td>3.000000</td>\n",
       "      <td>0.000000</td>\n",
       "      <td>0.000000e+00</td>\n",
       "      <td>4.665202</td>\n",
       "      <td>0.000000e+00</td>\n",
       "      <td>106.000000</td>\n",
       "    </tr>\n",
       "    <tr>\n",
       "      <th>max</th>\n",
       "      <td>977540.000000</td>\n",
       "      <td>10.000000</td>\n",
       "      <td>2.425542e+06</td>\n",
       "      <td>2020.000000</td>\n",
       "      <td>2021.000000</td>\n",
       "      <td>2022.000000</td>\n",
       "      <td>13319.000000</td>\n",
       "      <td>2012.000000</td>\n",
       "      <td>15762.000000</td>\n",
       "      <td>162.000000</td>\n",
       "      <td>1.000000</td>\n",
       "      <td>3.800000e+08</td>\n",
       "      <td>547.488298</td>\n",
       "      <td>2.787965e+09</td>\n",
       "      <td>1256.000000</td>\n",
       "    </tr>\n",
       "  </tbody>\n",
       "</table>\n",
       "</div>"
      ],
      "text/plain": [
       "          Unnamed: 0  averageRating      numVotes        isAdult  \\\n",
       "count  977541.000000  977541.000000  9.775410e+05  977541.000000   \n",
       "mean   488770.000000       6.881764  1.625621e+03       0.023017   \n",
       "std    282191.924082       1.405315  2.509798e+04       2.888235   \n",
       "min         0.000000       1.000000  5.000000e+00       0.000000   \n",
       "25%    244385.000000       6.100000  9.000000e+00       0.000000   \n",
       "50%    488770.000000       7.100000  2.200000e+01       0.000000   \n",
       "75%    733155.000000       7.900000  9.300000e+01       0.000000   \n",
       "max    977540.000000      10.000000  2.425542e+06    2020.000000   \n",
       "\n",
       "           startYear        endYear  runtimeMinutes   seasonNumber  \\\n",
       "count  977541.000000  977541.000000   977541.000000  438243.000000   \n",
       "mean     1999.356151      58.196713       41.363622       4.061229   \n",
       "std        34.362292     336.455028       57.788808      12.336583   \n",
       "min         0.000000       0.000000   -22336.000000       0.000000   \n",
       "25%      1992.000000       0.000000        0.000000       1.000000   \n",
       "50%      2008.000000       0.000000       27.000000       2.000000   \n",
       "75%      2015.000000       0.000000       73.000000       4.000000   \n",
       "max      2021.000000    2022.000000    13319.000000    2012.000000   \n",
       "\n",
       "       episodeNumber       ordering  isOriginalTitle        budget  \\\n",
       "count  438243.000000  370623.000000    370623.000000  4.737000e+04   \n",
       "mean       55.341327       3.479414         0.000019  6.180242e+06   \n",
       "std       585.538414       5.148422         0.004346  2.309356e+07   \n",
       "min         0.000000       1.000000         0.000000  0.000000e+00   \n",
       "25%         4.000000       1.000000         0.000000  0.000000e+00   \n",
       "50%         8.000000       2.000000         0.000000  0.000000e+00   \n",
       "75%        16.000000       3.000000         0.000000  0.000000e+00   \n",
       "max     15762.000000     162.000000         1.000000  3.800000e+08   \n",
       "\n",
       "         popularity       revenue       runtime  \n",
       "count  47369.000000  4.736900e+04  47158.000000  \n",
       "mean       3.433752  1.843587e+07     94.437508  \n",
       "std        7.120486  9.294434e+07     36.021579  \n",
       "min        0.000000  0.000000e+00      0.000000  \n",
       "25%        0.442903  0.000000e+00     85.000000  \n",
       "50%        1.282498  0.000000e+00     95.000000  \n",
       "75%        4.665202  0.000000e+00    106.000000  \n",
       "max      547.488298  2.787965e+09   1256.000000  "
      ]
     },
     "execution_count": 9,
     "metadata": {},
     "output_type": "execute_result"
    }
   ],
   "source": [
    "origen.describe()"
   ]
  },
  {
   "cell_type": "code",
   "execution_count": 10,
   "id": "ed42ab09",
   "metadata": {},
   "outputs": [
    {
     "data": {
      "text/html": [
       "<div>\n",
       "<style scoped>\n",
       "    .dataframe tbody tr th:only-of-type {\n",
       "        vertical-align: middle;\n",
       "    }\n",
       "\n",
       "    .dataframe tbody tr th {\n",
       "        vertical-align: top;\n",
       "    }\n",
       "\n",
       "    .dataframe thead th {\n",
       "        text-align: right;\n",
       "    }\n",
       "</style>\n",
       "<table border=\"1\" class=\"dataframe\">\n",
       "  <thead>\n",
       "    <tr style=\"text-align: right;\">\n",
       "      <th></th>\n",
       "      <th>Unnamed: 0</th>\n",
       "      <th>numVotes</th>\n",
       "      <th>isAdult</th>\n",
       "      <th>startYear</th>\n",
       "      <th>endYear</th>\n",
       "      <th>runtimeMinutes</th>\n",
       "      <th>seasonNumber</th>\n",
       "      <th>episodeNumber</th>\n",
       "      <th>ordering</th>\n",
       "      <th>isOriginalTitle</th>\n",
       "      <th>budget</th>\n",
       "      <th>popularity</th>\n",
       "      <th>revenue</th>\n",
       "      <th>runtime</th>\n",
       "    </tr>\n",
       "  </thead>\n",
       "  <tbody>\n",
       "    <tr>\n",
       "      <th>count</th>\n",
       "      <td>244386.000000</td>\n",
       "      <td>2.443860e+05</td>\n",
       "      <td>244386.000000</td>\n",
       "      <td>244386.000000</td>\n",
       "      <td>244386.000000</td>\n",
       "      <td>244386.000000</td>\n",
       "      <td>109388.000000</td>\n",
       "      <td>109388.000000</td>\n",
       "      <td>92817.000000</td>\n",
       "      <td>92817.000000</td>\n",
       "      <td>1.177700e+04</td>\n",
       "      <td>11775.000000</td>\n",
       "      <td>1.177500e+04</td>\n",
       "      <td>11729.000000</td>\n",
       "    </tr>\n",
       "    <tr>\n",
       "      <th>mean</th>\n",
       "      <td>122192.500000</td>\n",
       "      <td>1.608292e+03</td>\n",
       "      <td>0.018659</td>\n",
       "      <td>1999.522039</td>\n",
       "      <td>58.347295</td>\n",
       "      <td>41.521470</td>\n",
       "      <td>3.976122</td>\n",
       "      <td>52.941502</td>\n",
       "      <td>3.487863</td>\n",
       "      <td>0.000011</td>\n",
       "      <td>6.674685e+06</td>\n",
       "      <td>3.518054</td>\n",
       "      <td>2.065998e+07</td>\n",
       "      <td>95.283656</td>\n",
       "    </tr>\n",
       "    <tr>\n",
       "      <th>std</th>\n",
       "      <td>70548.305781</td>\n",
       "      <td>2.336788e+04</td>\n",
       "      <td>0.135318</td>\n",
       "      <td>30.137175</td>\n",
       "      <td>336.881028</td>\n",
       "      <td>82.645724</td>\n",
       "      <td>5.978550</td>\n",
       "      <td>553.466598</td>\n",
       "      <td>5.143494</td>\n",
       "      <td>0.003282</td>\n",
       "      <td>2.434012e+07</td>\n",
       "      <td>8.515654</td>\n",
       "      <td>9.804592e+07</td>\n",
       "      <td>38.285468</td>\n",
       "    </tr>\n",
       "    <tr>\n",
       "      <th>min</th>\n",
       "      <td>0.000000</td>\n",
       "      <td>5.000000e+00</td>\n",
       "      <td>0.000000</td>\n",
       "      <td>0.000000</td>\n",
       "      <td>0.000000</td>\n",
       "      <td>-29745.000000</td>\n",
       "      <td>0.000000</td>\n",
       "      <td>0.000000</td>\n",
       "      <td>1.000000</td>\n",
       "      <td>0.000000</td>\n",
       "      <td>0.000000e+00</td>\n",
       "      <td>0.000000</td>\n",
       "      <td>0.000000e+00</td>\n",
       "      <td>0.000000</td>\n",
       "    </tr>\n",
       "    <tr>\n",
       "      <th>25%</th>\n",
       "      <td>61096.250000</td>\n",
       "      <td>9.000000e+00</td>\n",
       "      <td>0.000000</td>\n",
       "      <td>1992.000000</td>\n",
       "      <td>0.000000</td>\n",
       "      <td>0.000000</td>\n",
       "      <td>1.000000</td>\n",
       "      <td>4.000000</td>\n",
       "      <td>1.000000</td>\n",
       "      <td>0.000000</td>\n",
       "      <td>0.000000e+00</td>\n",
       "      <td>0.441267</td>\n",
       "      <td>0.000000e+00</td>\n",
       "      <td>85.000000</td>\n",
       "    </tr>\n",
       "    <tr>\n",
       "      <th>50%</th>\n",
       "      <td>122192.500000</td>\n",
       "      <td>2.200000e+01</td>\n",
       "      <td>0.000000</td>\n",
       "      <td>2008.000000</td>\n",
       "      <td>0.000000</td>\n",
       "      <td>27.000000</td>\n",
       "      <td>2.000000</td>\n",
       "      <td>8.000000</td>\n",
       "      <td>2.000000</td>\n",
       "      <td>0.000000</td>\n",
       "      <td>0.000000e+00</td>\n",
       "      <td>1.311197</td>\n",
       "      <td>0.000000e+00</td>\n",
       "      <td>95.000000</td>\n",
       "    </tr>\n",
       "    <tr>\n",
       "      <th>75%</th>\n",
       "      <td>183288.750000</td>\n",
       "      <td>9.100000e+01</td>\n",
       "      <td>0.000000</td>\n",
       "      <td>2015.000000</td>\n",
       "      <td>0.000000</td>\n",
       "      <td>74.000000</td>\n",
       "      <td>4.000000</td>\n",
       "      <td>16.000000</td>\n",
       "      <td>3.000000</td>\n",
       "      <td>0.000000</td>\n",
       "      <td>0.000000e+00</td>\n",
       "      <td>4.777108</td>\n",
       "      <td>0.000000e+00</td>\n",
       "      <td>107.000000</td>\n",
       "    </tr>\n",
       "    <tr>\n",
       "      <th>max</th>\n",
       "      <td>244385.000000</td>\n",
       "      <td>2.381831e+06</td>\n",
       "      <td>1.000000</td>\n",
       "      <td>2021.000000</td>\n",
       "      <td>2022.000000</td>\n",
       "      <td>14400.000000</td>\n",
       "      <td>135.000000</td>\n",
       "      <td>15108.000000</td>\n",
       "      <td>150.000000</td>\n",
       "      <td>1.000000</td>\n",
       "      <td>3.800000e+08</td>\n",
       "      <td>547.488298</td>\n",
       "      <td>1.845034e+09</td>\n",
       "      <td>1140.000000</td>\n",
       "    </tr>\n",
       "  </tbody>\n",
       "</table>\n",
       "</div>"
      ],
      "text/plain": [
       "          Unnamed: 0      numVotes        isAdult      startYear  \\\n",
       "count  244386.000000  2.443860e+05  244386.000000  244386.000000   \n",
       "mean   122192.500000  1.608292e+03       0.018659    1999.522039   \n",
       "std     70548.305781  2.336788e+04       0.135318      30.137175   \n",
       "min         0.000000  5.000000e+00       0.000000       0.000000   \n",
       "25%     61096.250000  9.000000e+00       0.000000    1992.000000   \n",
       "50%    122192.500000  2.200000e+01       0.000000    2008.000000   \n",
       "75%    183288.750000  9.100000e+01       0.000000    2015.000000   \n",
       "max    244385.000000  2.381831e+06       1.000000    2021.000000   \n",
       "\n",
       "             endYear  runtimeMinutes   seasonNumber  episodeNumber  \\\n",
       "count  244386.000000   244386.000000  109388.000000  109388.000000   \n",
       "mean       58.347295       41.521470       3.976122      52.941502   \n",
       "std       336.881028       82.645724       5.978550     553.466598   \n",
       "min         0.000000   -29745.000000       0.000000       0.000000   \n",
       "25%         0.000000        0.000000       1.000000       4.000000   \n",
       "50%         0.000000       27.000000       2.000000       8.000000   \n",
       "75%         0.000000       74.000000       4.000000      16.000000   \n",
       "max      2022.000000    14400.000000     135.000000   15108.000000   \n",
       "\n",
       "           ordering  isOriginalTitle        budget    popularity  \\\n",
       "count  92817.000000     92817.000000  1.177700e+04  11775.000000   \n",
       "mean       3.487863         0.000011  6.674685e+06      3.518054   \n",
       "std        5.143494         0.003282  2.434012e+07      8.515654   \n",
       "min        1.000000         0.000000  0.000000e+00      0.000000   \n",
       "25%        1.000000         0.000000  0.000000e+00      0.441267   \n",
       "50%        2.000000         0.000000  0.000000e+00      1.311197   \n",
       "75%        3.000000         0.000000  0.000000e+00      4.777108   \n",
       "max      150.000000         1.000000  3.800000e+08    547.488298   \n",
       "\n",
       "            revenue       runtime  \n",
       "count  1.177500e+04  11729.000000  \n",
       "mean   2.065998e+07     95.283656  \n",
       "std    9.804592e+07     38.285468  \n",
       "min    0.000000e+00      0.000000  \n",
       "25%    0.000000e+00     85.000000  \n",
       "50%    0.000000e+00     95.000000  \n",
       "75%    0.000000e+00    107.000000  \n",
       "max    1.845034e+09   1140.000000  "
      ]
     },
     "execution_count": 10,
     "metadata": {},
     "output_type": "execute_result"
    }
   ],
   "source": [
    "testear.describe()"
   ]
  },
  {
   "cell_type": "markdown",
   "id": "5bf84520",
   "metadata": {},
   "source": [
    "First, the .describe() function indicates the presence of outliers on certain variables. Secondly, the data is incomplete, and the dataset suffers from a significant lack of filling. In order to optimize modeling and prediction, this NA problem needs to be resolved. What's more, there are both quantitative and categorical variables, so we'll need to make a prediction that takes this specificity into account, ensuring that the model correctly considers the types of variables. This will also need to be taken care of.  "
   ]
  },
  {
   "cell_type": "markdown",
   "id": "c540587d",
   "metadata": {},
   "source": [
    "First we can delete the index line, as it won't be useful for predictions."
   ]
  },
  {
   "cell_type": "code",
   "execution_count": 11,
   "id": "1e565023",
   "metadata": {},
   "outputs": [],
   "source": [
    "origen = origen.drop(columns=['Unnamed: 0']) \n",
    "testear = testear.drop(columns=['Unnamed: 0']) "
   ]
  },
  {
   "cell_type": "markdown",
   "id": "eace2c0f",
   "metadata": {},
   "source": [
    "Some occurrences of the variable 'isAdult' are not between 0 and 1 (whereas 'isAdult' is supposed to be a Boolean). These few occurrences are therefore removed. The same operation could be performed for the 'isOriginalTitle' variable, but no such anomalies are found either in the 'origen' dataset or in 'testear'."
   ]
  },
  {
   "cell_type": "code",
   "execution_count": 12,
   "id": "2c61fafc",
   "metadata": {},
   "outputs": [
    {
     "name": "stdout",
     "output_type": "stream",
     "text": [
      "0.0       959073\n",
      "1.0        18466\n",
      "2014.0         1\n",
      "2020.0         1\n",
      "Name: isAdult, dtype: int64\n"
     ]
    }
   ],
   "source": [
    "print(origen['isAdult'].value_counts())"
   ]
  },
  {
   "cell_type": "code",
   "execution_count": 13,
   "id": "db18998f",
   "metadata": {},
   "outputs": [
    {
     "name": "stdout",
     "output_type": "stream",
     "text": [
      "0.0    959073\n",
      "1.0     18466\n",
      "Name: isAdult, dtype: int64\n"
     ]
    }
   ],
   "source": [
    "origen = origen[(origen['isAdult'] == 0) | (origen['isAdult'] == 1)]\n",
    "testear = testear[(testear['isAdult'] == 0) | (testear['isAdult'] == 1)]\n",
    "print(origen['isAdult'].value_counts())"
   ]
  },
  {
   "cell_type": "markdown",
   "id": "e563de6b",
   "metadata": {},
   "source": [
    "### Missing values"
   ]
  },
  {
   "cell_type": "markdown",
   "id": "03eb0193",
   "metadata": {},
   "source": [
    "Moreover, we need to analyze the missing values (the so-called NA) in our datasets. How many are there?"
   ]
  },
  {
   "cell_type": "code",
   "execution_count": 14,
   "id": "7b03b8d7",
   "metadata": {},
   "outputs": [
    {
     "name": "stdout",
     "output_type": "stream",
     "text": [
      "Origen : \n",
      " averageRating                0\n",
      "numVotes                     0\n",
      "titleType                    0\n",
      "isAdult                      0\n",
      "startYear                    0\n",
      "endYear                      0\n",
      "runtimeMinutes               0\n",
      "genres_x                     0\n",
      "directors                    0\n",
      "writers                      0\n",
      "seasonNumber            539298\n",
      "episodeNumber           539298\n",
      "ordering                606916\n",
      "language                606916\n",
      "attributes              606916\n",
      "isOriginalTitle         606916\n",
      "adult                   930169\n",
      "budget                  930169\n",
      "genres_y                930169\n",
      "original_language       930181\n",
      "popularity              930170\n",
      "production_companies    930170\n",
      "production_countries    930170\n",
      "revenue                 930170\n",
      "runtime                 930381\n",
      "status                  930240\n",
      "tagline                 953694\n",
      "video                   930170\n",
      "dtype: int64 \n",
      "\n",
      "Testear : \n",
      " numVotes                     0\n",
      "titleType                    0\n",
      "isAdult                      0\n",
      "startYear                    0\n",
      "endYear                      0\n",
      "runtimeMinutes               0\n",
      "genres_x                     0\n",
      "directors                    0\n",
      "writers                      0\n",
      "seasonNumber            134998\n",
      "episodeNumber           134998\n",
      "ordering                151569\n",
      "language                151569\n",
      "attributes              151569\n",
      "isOriginalTitle         151569\n",
      "adult                   232609\n",
      "budget                  232609\n",
      "genres_y                232609\n",
      "original_language       232611\n",
      "popularity              232611\n",
      "production_companies    232611\n",
      "production_countries    232611\n",
      "revenue                 232611\n",
      "runtime                 232657\n",
      "status                  232629\n",
      "tagline                 238380\n",
      "video                   232611\n",
      "dtype: int64\n"
     ]
    }
   ],
   "source": [
    "print(\"Origen : \\n\",origen.isna().sum(),\"\\n\")\n",
    "print(\"Testear : \\n\",testear.isna().sum())"
   ]
  },
  {
   "cell_type": "markdown",
   "id": "ae185419",
   "metadata": {},
   "source": [
    "We only have 2 rows with NA in 'genre_x': we can delete them without consequence. For the rest of the columns, let's visualize the distribution of NA."
   ]
  },
  {
   "cell_type": "code",
   "execution_count": 15,
   "id": "9d358132",
   "metadata": {},
   "outputs": [],
   "source": [
    "origen = origen.dropna(subset=['genres_x'])\n",
    "testear= testear.dropna(subset=['genres_x'])"
   ]
  },
  {
   "cell_type": "code",
   "execution_count": 16,
   "id": "6753afa8",
   "metadata": {},
   "outputs": [
    {
     "data": {
      "image/png": "[encoded data removed]",
      "text/plain": [
       "<Figure size 720x432 with 1 Axes>"
      ]
     },
     "metadata": {
      "needs_background": "light"
     },
     "output_type": "display_data"
    },
    {
     "data": {
      "image/png": "[encoded data removed]",
      "text/plain": [
       "<Figure size 720x432 with 1 Axes>"
      ]
     },
     "metadata": {
      "needs_background": "light"
     },
     "output_type": "display_data"
    }
   ],
   "source": [
    "na_counts = origen.isnull().sum()\n",
    "\n",
    "# Vizualizing the NA of the variables\n",
    "plt.figure(figsize=(10, 6))\n",
    "na_counts.plot(kind='bar')\n",
    "plt.title('Number of missing values per variable (dataset origen)')\n",
    "plt.xlabel('Variables')\n",
    "plt.ylabel('Number of NA')\n",
    "plt.show()\n",
    "\n",
    "na_counts_testear = testear.isnull().sum()\n",
    "\n",
    "# Vizualizing the NA of the variables\n",
    "plt.figure(figsize=(10, 6))\n",
    "na_counts_testear.plot(kind='bar')\n",
    "plt.title('Number of missing values per variable (dataset testear)')\n",
    "plt.xlabel('Variables')\n",
    "plt.ylabel('Number of NA')\n",
    "plt.show()"
   ]
  },
  {
   "cell_type": "markdown",
   "id": "7aa5e16d",
   "metadata": {},
   "source": [
    "The first observation we can make is that our two datasets contain a large number of missing values in proportion to their size, which means we need to clean up a lot in order to manipulate the data. The second observation is that the NAs of the two datasets ('origen' and 'testear') are very similar in terms of the proportion of the number of NAs. This means that rather than treating the two datasets separately in terms of columns, we can apply a method to the first dataset and then pass it on to the second.\n",
    "\n",
    "Here we have 4 options to clean the NA problem : \n",
    "- Deletion of NA rows or colomns\n",
    "- Imputation of missing values: choose default values 0 and 1 or use other criteria such as median or mean\n",
    "- Create a separate NA category\n",
    "- Use advanced methods"
   ]
  },
  {
   "cell_type": "markdown",
   "id": "f4fa76a3",
   "metadata": {},
   "source": [
    "The first thing to do is to observe the correlation between variables. In fact, if certain variables containing a lot of NA are highly correlated with other variables, we can remove these variables with little impact on the final model. To do this, we display the correlation matrix (this only applies to numerical variables). "
   ]
  },
  {
   "cell_type": "code",
   "execution_count": 17,
   "id": "aecac64f",
   "metadata": {},
   "outputs": [],
   "source": [
    "correlation_matrix = origen.corr()\n",
    "#correlation_matrix2 = testear.corr()"
   ]
  },
  {
   "cell_type": "code",
   "execution_count": 18,
   "id": "405df64d",
   "metadata": {},
   "outputs": [
    {
     "data": {
      "image/png": "[encoded data removed]",
      "text/plain": [
       "<Figure size 720x576 with 2 Axes>"
      ]
     },
     "metadata": {
      "needs_background": "light"
     },
     "output_type": "display_data"
    }
   ],
   "source": [
    "plt.figure(figsize=(10, 8))\n",
    "heatmap = sns.heatmap(correlation_matrix, annot=True, cmap='coolwarm')\n",
    "plt.show()\n",
    "\n",
    "#plt.figure(figsize=(10, 8))\n",
    "#heatmap = sns.heatmap(correlation_matrix2, annot=True, cmap='coolwarm')\n",
    "#plt.show()"
   ]
  },
  {
   "cell_type": "code",
   "execution_count": 19,
   "id": "75b00fad",
   "metadata": {},
   "outputs": [
    {
     "name": "stdout",
     "output_type": "stream",
     "text": [
      "       Variable 1      Variable 2  Correlation\n",
      "0        numVotes          budget     0.600867\n",
      "1        numVotes         revenue     0.713653\n",
      "2  runtimeMinutes         runtime     0.808981\n",
      "3          budget        numVotes     0.600867\n",
      "4          budget         revenue     0.788960\n",
      "5         revenue        numVotes     0.713653\n",
      "6         revenue          budget     0.788960\n",
      "7         runtime  runtimeMinutes     0.808981\n"
     ]
    }
   ],
   "source": [
    "# Filter the correlation matrix for values above 0.7\n",
    "high_correlation = correlation_matrix[abs(correlation_matrix) > 0.6]\n",
    "#high_correlation2 = correlation_matrix2[abs(correlation_matrix2) > 0.6]\n",
    "\n",
    "# Ignore the diagonal and identical values (upper part of the matrix)\n",
    "high_correlation = high_correlation[high_correlation != 1]\n",
    "#high_correlation2 = high_correlation2[high_correlation2 != 1]\n",
    "\n",
    "# Display pairs of correlated variables\n",
    "variable_pairs = high_correlation.stack().reset_index()\n",
    "variable_pairs.columns = ['Variable 1', 'Variable 2', 'Correlation']\n",
    "strong_correlation = variable_pairs.dropna()\n",
    "#variable_pairs2 = high_correlation2.stack().reset_index()\n",
    "#variable_pairs2.columns = ['Variable 1', 'Variable 2', 'Correlation']\n",
    "#strong_correlation2 = variable_pairs2.dropna()\n",
    "\n",
    "correlated_variables = strong_correlation['Variable 1']\n",
    "#correlated_variables2 = strong_correlation2['Variable 1']\n",
    "\n",
    "print(strong_correlation)"
   ]
  },
  {
   "cell_type": "code",
   "execution_count": 20,
   "id": "fe4f46f2",
   "metadata": {},
   "outputs": [
    {
     "name": "stdout",
     "output_type": "stream",
     "text": [
      "Missing  numVotes  :  0\n",
      "Missing  numVotes  :  0\n",
      "Missing  runtimeMinutes  :  0\n",
      "Missing  budget  :  930169\n",
      "Missing  budget  :  930169\n",
      "Missing  revenue  :  930170\n",
      "Missing  revenue  :  930170\n",
      "Missing  runtime  :  930381\n"
     ]
    }
   ],
   "source": [
    "for i in correlated_variables : \n",
    "    print(\"Missing \", i, \" : \",origen[i].isnull().sum())"
   ]
  },
  {
   "cell_type": "markdown",
   "id": "6990f3a4",
   "metadata": {},
   "source": [
    "We end by deleting columns with more than 75% NA correlated with other columns."
   ]
  },
  {
   "cell_type": "code",
   "execution_count": 21,
   "id": "100c3b01",
   "metadata": {},
   "outputs": [],
   "source": [
    "missing_percent = (origen[correlated_variables].isna().sum() / len(origen)) * 100\n",
    "\n",
    "columns_to_drop = missing_percent[missing_percent > 75].index\n",
    "\n",
    "origen = origen.drop(columns=columns_to_drop)"
   ]
  },
  {
   "cell_type": "code",
   "execution_count": 22,
   "id": "bf9c0975",
   "metadata": {},
   "outputs": [
    {
     "name": "stdout",
     "output_type": "stream",
     "text": [
      "Index(['averageRating', 'numVotes', 'titleType', 'isAdult', 'startYear',\n",
      "       'endYear', 'runtimeMinutes', 'genres_x', 'directors', 'writers',\n",
      "       'seasonNumber', 'episodeNumber', 'ordering', 'language', 'attributes',\n",
      "       'isOriginalTitle', 'adult', 'genres_y', 'original_language',\n",
      "       'popularity', 'production_companies', 'production_countries', 'status',\n",
      "       'tagline', 'video'],\n",
      "      dtype='object') 25\n"
     ]
    }
   ],
   "source": [
    "print(origen.columns,len(origen.columns))"
   ]
  },
  {
   "cell_type": "code",
   "execution_count": 23,
   "id": "7651d1ba",
   "metadata": {},
   "outputs": [
    {
     "name": "stdout",
     "output_type": "stream",
     "text": [
      "Index(['numVotes', 'titleType', 'isAdult', 'startYear', 'endYear',\n",
      "       'runtimeMinutes', 'genres_x', 'directors', 'writers', 'seasonNumber',\n",
      "       'episodeNumber', 'ordering', 'language', 'attributes',\n",
      "       'isOriginalTitle', 'adult', 'genres_y', 'original_language',\n",
      "       'popularity', 'production_companies', 'production_countries', 'status',\n",
      "       'tagline', 'video'],\n",
      "      dtype='object') 24\n"
     ]
    }
   ],
   "source": [
    "deleted_colomns = [col for col in testear.columns if col not in origen.columns]\n",
    "testear.drop(columns=deleted_colomns, inplace=True)\n",
    "print(testear.columns,len(testear.columns))"
   ]
  },
  {
   "cell_type": "markdown",
   "id": "2659c973",
   "metadata": {},
   "source": [
    "Now that we've done that, let's work on the content type. We can see that there are a number of occurrences of the variable 'typeTitle'."
   ]
  },
  {
   "cell_type": "code",
   "execution_count": 24,
   "id": "667f20e8",
   "metadata": {},
   "outputs": [
    {
     "name": "stdout",
     "output_type": "stream",
     "text": [
      "['movie' 'tvSeries' 'tvEpisode' 'short' 'video' 'tvSpecial' 'tvMovie'\n",
      " 'tvMiniSeries' 'videoGame' 'tvShort']\n"
     ]
    }
   ],
   "source": [
    "unique_value = origen['titleType'].unique()\n",
    "print(unique_value)"
   ]
  },
  {
   "cell_type": "code",
   "execution_count": 25,
   "id": "a3e8f5fc",
   "metadata": {},
   "outputs": [
    {
     "name": "stdout",
     "output_type": "stream",
     "text": [
      "episodeNumber    539298\n",
      "seasonNumber     539298\n",
      "dtype: int64\n",
      "episodeNumber    134998\n",
      "seasonNumber     134998\n",
      "dtype: int64\n"
     ]
    }
   ],
   "source": [
    "print(origen[['episodeNumber','seasonNumber']].isna().sum())\n",
    "print(testear[['episodeNumber','seasonNumber']].isna().sum())"
   ]
  },
  {
   "cell_type": "markdown",
   "id": "6cf960c7",
   "metadata": {},
   "source": [
    "We can consider that if we don't have the season number or episode number, then for the categories 'movie', 'video', 'tvSpecial', 'tvMovie' and 'videoGame' we have 0 season and 1 episode, then for the categories 'tvSeries', 'tvEpisode', 'short', 'tvMiniSeries' and 'tvShort',  we put 1 season and the median of the number of episodes where we have only one season in the dataset."
   ]
  },
  {
   "cell_type": "code",
   "execution_count": 26,
   "id": "3ff5eb30",
   "metadata": {},
   "outputs": [
    {
     "name": "stdout",
     "output_type": "stream",
     "text": [
      "origen :  7.0\n",
      "testear :  7.0\n"
     ]
    }
   ],
   "source": [
    "# We compute the median of 'episodeNumber' when 'seasonNumber' is equal to 1\n",
    "oneseason_ep=origen[origen['seasonNumber']==1]\n",
    "median_ep=oneseason_ep[\"episodeNumber\"].dropna().median()\n",
    "print(\"origen : \",median_ep)\n",
    "\n",
    "oneseason_ep_test=testear[testear['seasonNumber']==1]\n",
    "median_ep_test=oneseason_ep_test[\"episodeNumber\"].dropna().median()\n",
    "print(\"testear : \",median_ep_test)"
   ]
  },
  {
   "cell_type": "code",
   "execution_count": 27,
   "id": "2e69e181",
   "metadata": {},
   "outputs": [],
   "source": [
    "# Fonction to replace Na in episodeNumber and seasonNumber\n",
    "def replace_na_episode(row):\n",
    "    if pd.isna(row['episodeNumber']): \n",
    "        if row['titleType'] in ['movie', 'video', 'tvSpecial', 'tvMovie', 'videoGame']:        \n",
    "            return 1\n",
    "        else:\n",
    "            return median_ep\n",
    "    else:\n",
    "        return row['episodeNumber']\n",
    "\n",
    "def replace_na_season(row):\n",
    "    if pd.isna(row['seasonNumber']): \n",
    "        if row['titleType'] in ['movie', 'video', 'tvSpecial', 'tvMovie', 'videoGame']:        \n",
    "            return 0\n",
    "        else:\n",
    "            return 1\n",
    "    else:\n",
    "        return row['seasonNumber']\n",
    "\n",
    "# We apply the fonctions\n",
    "origen['episodeNumber'] = origen.apply(replace_na_episode, axis=1)\n",
    "origen['seasonNumber'] = origen.apply(replace_na_season, axis=1)\n",
    "\n",
    "testear['episodeNumber'] = testear.apply(replace_na_episode, axis=1)\n",
    "testear['seasonNumber'] = testear.apply(replace_na_season, axis=1)"
   ]
  },
  {
   "cell_type": "code",
   "execution_count": 28,
   "id": "9dbc9310",
   "metadata": {},
   "outputs": [
    {
     "name": "stdout",
     "output_type": "stream",
     "text": [
      "episodeNumber    0\n",
      "seasonNumber     0\n",
      "dtype: int64\n",
      "episodeNumber    0\n",
      "seasonNumber     0\n",
      "dtype: int64\n"
     ]
    }
   ],
   "source": [
    "# Check if there is any NaN left\n",
    "print(origen[['episodeNumber','seasonNumber']].isna().sum())\n",
    "print(testear[['episodeNumber','seasonNumber']].isna().sum())"
   ]
  },
  {
   "cell_type": "markdown",
   "id": "6c5661dd",
   "metadata": {},
   "source": [
    "For the 'ordering' variable, the NAs can also be replaced. Since there are only a few important values, the information given by the variable will be kept and replacing it with the average will not change the nature of the predictions."
   ]
  },
  {
   "cell_type": "code",
   "execution_count": 29,
   "id": "6e0a9bae",
   "metadata": {},
   "outputs": [
    {
     "name": "stdout",
     "output_type": "stream",
     "text": [
      "ordering    606916\n",
      "dtype: int64\n",
      "ordering    151569\n",
      "dtype: int64\n"
     ]
    }
   ],
   "source": [
    "print(origen[['ordering']].isna().sum())\n",
    "print(testear[['ordering']].isna().sum())"
   ]
  },
  {
   "cell_type": "code",
   "execution_count": 30,
   "id": "b40c276d",
   "metadata": {},
   "outputs": [],
   "source": [
    "mean_ordering=int(origen['ordering'].mean())\n",
    "origen['ordering'].fillna(mean_ordering, inplace=True)\n",
    "\n",
    "mean_orderingt=int(testear['ordering'].mean())\n",
    "testear['ordering'].fillna(mean_orderingt, inplace=True)"
   ]
  },
  {
   "cell_type": "code",
   "execution_count": 31,
   "id": "6746a8a6",
   "metadata": {},
   "outputs": [
    {
     "name": "stdout",
     "output_type": "stream",
     "text": [
      "ordering    0\n",
      "dtype: int64\n",
      "ordering    0\n",
      "dtype: int64\n"
     ]
    }
   ],
   "source": [
    "print(origen[['ordering']].isna().sum())\n",
    "print(testear[['ordering']].isna().sum())"
   ]
  },
  {
   "cell_type": "markdown",
   "id": "7d709eb3",
   "metadata": {},
   "source": [
    "Next, we work on the categorical variables 'directors' and 'writers'. The particularity of these variables is that they belong to the 'object' category on the one hand, and that they can contain several values on the other. In fact, a work can have several writers or directors. To find out how to deal with them, let's look at the number of different directors and writers."
   ]
  },
  {
   "cell_type": "code",
   "execution_count": 32,
   "id": "8444d694",
   "metadata": {},
   "outputs": [
    {
     "name": "stdout",
     "output_type": "stream",
     "text": [
      "240557 398877\n"
     ]
    }
   ],
   "source": [
    "print(len(origen['directors'].unique()),len(origen['writers'].unique()))"
   ]
  },
  {
   "cell_type": "markdown",
   "id": "e59e7ed9",
   "metadata": {},
   "source": [
    "If this number hadn't been significant, we could have split the dataset to create a new line for each work by weighting and splitting one line into several for each occurrence. However, the large number of values for these variables forces us to make a choice. We assume that the first director and the first writer quoted are the best-known each time, and delete the others. "
   ]
  },
  {
   "cell_type": "code",
   "execution_count": 33,
   "id": "14f41d57",
   "metadata": {},
   "outputs": [],
   "source": [
    "columns_to_clean = ['directors', 'writers']\n",
    "\n",
    "for column in columns_to_clean:\n",
    "    origen[column] = origen[column].str.lstrip('nm')\n",
    "    origen[column] = origen[column].str.split(',').str[0]\n",
    "    \n",
    "    testear[column] = testear[column].str.lstrip('nm')\n",
    "    testear[column] = testear[column].str.split(',').str[0]"
   ]
  },
  {
   "cell_type": "markdown",
   "id": "7148b43e",
   "metadata": {},
   "source": [
    "Let's take a look at where we are now."
   ]
  },
  {
   "cell_type": "code",
   "execution_count": 34,
   "id": "94269f02",
   "metadata": {},
   "outputs": [
    {
     "name": "stdout",
     "output_type": "stream",
     "text": [
      "The percentage of missing values for each variable is : \n",
      "\n",
      " averageRating            0.000000\n",
      "numVotes                 0.000000\n",
      "titleType                0.000000\n",
      "isAdult                  0.000000\n",
      "startYear                0.000000\n",
      "endYear                  0.000000\n",
      "runtimeMinutes           0.000000\n",
      "genres_x                 0.000000\n",
      "directors                0.000000\n",
      "writers                  0.000000\n",
      "seasonNumber             0.000000\n",
      "episodeNumber            0.000000\n",
      "ordering                 0.000000\n",
      "language                62.086116\n",
      "attributes              62.086116\n",
      "isOriginalTitle         62.086116\n",
      "adult                   95.154158\n",
      "genres_y                95.154158\n",
      "original_language       95.155385\n",
      "popularity              95.154260\n",
      "production_companies    95.154260\n",
      "production_countries    95.154260\n",
      "status                  95.161421\n",
      "tagline                 97.560711\n",
      "video                   95.154260\n",
      "dtype: float64\n"
     ]
    }
   ],
   "source": [
    "print(\"The percentage of missing values for each variable is : \\n\\n\",(origen.isna().sum() / len(origen)) * 100)"
   ]
  },
  {
   "cell_type": "markdown",
   "id": "3c07e727",
   "metadata": {},
   "source": [
    "We're now going to propose a first clean-up by deleting columns with more than 60% NA. These remaining variables are considered to be either insignificant in view of the number of NA remaining (e.g. the 'production_companies' variable), or irreplaceable by arbitrary values (e.g. the 'attributes' variable).\n",
    "\n",
    "We could do things differently, but we'll see later that keeping more variables makes the computation time of the prediction models far too high."
   ]
  },
  {
   "cell_type": "code",
   "execution_count": 35,
   "id": "2a17fcaf",
   "metadata": {},
   "outputs": [
    {
     "name": "stdout",
     "output_type": "stream",
     "text": [
      "<class 'pandas.core.frame.DataFrame'>\n",
      "Int64Index: 977539 entries, 0 to 977540\n",
      "Data columns (total 13 columns):\n",
      " #   Column          Non-Null Count   Dtype  \n",
      "---  ------          --------------   -----  \n",
      " 0   averageRating   977539 non-null  float64\n",
      " 1   numVotes        977539 non-null  int64  \n",
      " 2   titleType       977539 non-null  object \n",
      " 3   isAdult         977539 non-null  float64\n",
      " 4   startYear       977539 non-null  int64  \n",
      " 5   endYear         977539 non-null  int64  \n",
      " 6   runtimeMinutes  977539 non-null  int64  \n",
      " 7   genres_x        977539 non-null  object \n",
      " 8   directors       977539 non-null  object \n",
      " 9   writers         977539 non-null  object \n",
      " 10  seasonNumber    977539 non-null  float64\n",
      " 11  episodeNumber   977539 non-null  float64\n",
      " 12  ordering        977539 non-null  float64\n",
      "dtypes: float64(5), int64(4), object(4)\n",
      "memory usage: 104.4+ MB\n"
     ]
    }
   ],
   "source": [
    "missing_percent = (origen.isna().sum() / len(origen)) * 100\n",
    "\n",
    "columns_to_drop = missing_percent[missing_percent > 60].index\n",
    "\n",
    "origen = origen.drop(columns=columns_to_drop)\n",
    "\n",
    "origen.info()"
   ]
  },
  {
   "cell_type": "code",
   "execution_count": 36,
   "id": "11bd6f5a",
   "metadata": {},
   "outputs": [
    {
     "name": "stdout",
     "output_type": "stream",
     "text": [
      "Index(['numVotes', 'titleType', 'isAdult', 'startYear', 'endYear',\n",
      "       'runtimeMinutes', 'genres_x', 'directors', 'writers', 'seasonNumber',\n",
      "       'episodeNumber', 'ordering'],\n",
      "      dtype='object') 12\n"
     ]
    }
   ],
   "source": [
    "deleted_colomns = [col for col in testear.columns if col not in origen.columns]\n",
    "testear.drop(columns=deleted_colomns, inplace=True)\n",
    "print(testear.columns,len(testear.columns))"
   ]
  },
  {
   "cell_type": "code",
   "execution_count": 37,
   "id": "794a78e7",
   "metadata": {},
   "outputs": [
    {
     "name": "stdout",
     "output_type": "stream",
     "text": [
      "<class 'pandas.core.frame.DataFrame'>\n",
      "Int64Index: 244386 entries, 0 to 244385\n",
      "Data columns (total 12 columns):\n",
      " #   Column          Non-Null Count   Dtype  \n",
      "---  ------          --------------   -----  \n",
      " 0   numVotes        244386 non-null  int64  \n",
      " 1   titleType       244386 non-null  object \n",
      " 2   isAdult         244386 non-null  float64\n",
      " 3   startYear       244386 non-null  int64  \n",
      " 4   endYear         244386 non-null  int64  \n",
      " 5   runtimeMinutes  244386 non-null  int64  \n",
      " 6   genres_x        244386 non-null  object \n",
      " 7   directors       244386 non-null  object \n",
      " 8   writers         244386 non-null  object \n",
      " 9   seasonNumber    244386 non-null  float64\n",
      " 10  episodeNumber   244386 non-null  float64\n",
      " 11  ordering        244386 non-null  float64\n",
      "dtypes: float64(4), int64(4), object(4)\n",
      "memory usage: 24.2+ MB\n"
     ]
    }
   ],
   "source": [
    "testear.info()"
   ]
  },
  {
   "cell_type": "code",
   "execution_count": 38,
   "id": "77abc4b3",
   "metadata": {},
   "outputs": [],
   "source": [
    "origen2 = origen\n",
    "testear2 = testear\n",
    "\n",
    "#origen = origen2\n",
    "#testear = testear2\n",
    "\n",
    "# Storing datasets just in case"
   ]
  },
  {
   "cell_type": "markdown",
   "id": "adbd2c2f",
   "metadata": {},
   "source": [
    "### Outliers\n",
    "\n",
    "Let's visualize our new data"
   ]
  },
  {
   "cell_type": "code",
   "execution_count": 39,
   "id": "e8df6053",
   "metadata": {},
   "outputs": [
    {
     "data": {
      "text/html": [
       "<div>\n",
       "<style scoped>\n",
       "    .dataframe tbody tr th:only-of-type {\n",
       "        vertical-align: middle;\n",
       "    }\n",
       "\n",
       "    .dataframe tbody tr th {\n",
       "        vertical-align: top;\n",
       "    }\n",
       "\n",
       "    .dataframe thead th {\n",
       "        text-align: right;\n",
       "    }\n",
       "</style>\n",
       "<table border=\"1\" class=\"dataframe\">\n",
       "  <thead>\n",
       "    <tr style=\"text-align: right;\">\n",
       "      <th></th>\n",
       "      <th>averageRating</th>\n",
       "      <th>numVotes</th>\n",
       "      <th>titleType</th>\n",
       "      <th>isAdult</th>\n",
       "      <th>startYear</th>\n",
       "      <th>endYear</th>\n",
       "      <th>runtimeMinutes</th>\n",
       "      <th>genres_x</th>\n",
       "      <th>directors</th>\n",
       "      <th>writers</th>\n",
       "      <th>seasonNumber</th>\n",
       "      <th>episodeNumber</th>\n",
       "      <th>ordering</th>\n",
       "    </tr>\n",
       "  </thead>\n",
       "  <tbody>\n",
       "    <tr>\n",
       "      <th>0</th>\n",
       "      <td>4.4</td>\n",
       "      <td>15</td>\n",
       "      <td>movie</td>\n",
       "      <td>0.0</td>\n",
       "      <td>1951</td>\n",
       "      <td>0</td>\n",
       "      <td>91</td>\n",
       "      <td>Comedy,Musical</td>\n",
       "      <td>0883334</td>\n",
       "      <td>0844784</td>\n",
       "      <td>0.0</td>\n",
       "      <td>1.0</td>\n",
       "      <td>3.0</td>\n",
       "    </tr>\n",
       "    <tr>\n",
       "      <th>1</th>\n",
       "      <td>7.0</td>\n",
       "      <td>990</td>\n",
       "      <td>tvSeries</td>\n",
       "      <td>0.0</td>\n",
       "      <td>2007</td>\n",
       "      <td>2021</td>\n",
       "      <td>30</td>\n",
       "      <td>Action,Adventure,Animation</td>\n",
       "      <td>2291816</td>\n",
       "      <td>1707665</td>\n",
       "      <td>1.0</td>\n",
       "      <td>7.0</td>\n",
       "      <td>5.0</td>\n",
       "    </tr>\n",
       "    <tr>\n",
       "      <th>2</th>\n",
       "      <td>8.1</td>\n",
       "      <td>41</td>\n",
       "      <td>tvEpisode</td>\n",
       "      <td>0.0</td>\n",
       "      <td>2011</td>\n",
       "      <td>0</td>\n",
       "      <td>44</td>\n",
       "      <td>Documentary,History,War</td>\n",
       "      <td>0414025</td>\n",
       "      <td>0414025</td>\n",
       "      <td>1.0</td>\n",
       "      <td>5.0</td>\n",
       "      <td>3.0</td>\n",
       "    </tr>\n",
       "    <tr>\n",
       "      <th>3</th>\n",
       "      <td>4.6</td>\n",
       "      <td>48</td>\n",
       "      <td>movie</td>\n",
       "      <td>0.0</td>\n",
       "      <td>1969</td>\n",
       "      <td>0</td>\n",
       "      <td>84</td>\n",
       "      <td>Drama</td>\n",
       "      <td>2977268</td>\n",
       "      <td>2977268</td>\n",
       "      <td>0.0</td>\n",
       "      <td>1.0</td>\n",
       "      <td>5.0</td>\n",
       "    </tr>\n",
       "    <tr>\n",
       "      <th>4</th>\n",
       "      <td>5.6</td>\n",
       "      <td>28</td>\n",
       "      <td>movie</td>\n",
       "      <td>0.0</td>\n",
       "      <td>2010</td>\n",
       "      <td>0</td>\n",
       "      <td>130</td>\n",
       "      <td>Comedy,Drama</td>\n",
       "      <td>2366663</td>\n",
       "      <td>4290500</td>\n",
       "      <td>0.0</td>\n",
       "      <td>1.0</td>\n",
       "      <td>3.0</td>\n",
       "    </tr>\n",
       "  </tbody>\n",
       "</table>\n",
       "</div>"
      ],
      "text/plain": [
       "   averageRating  numVotes  titleType  isAdult  startYear  endYear  \\\n",
       "0            4.4        15      movie      0.0       1951        0   \n",
       "1            7.0       990   tvSeries      0.0       2007     2021   \n",
       "2            8.1        41  tvEpisode      0.0       2011        0   \n",
       "3            4.6        48      movie      0.0       1969        0   \n",
       "4            5.6        28      movie      0.0       2010        0   \n",
       "\n",
       "   runtimeMinutes                    genres_x directors  writers  \\\n",
       "0              91              Comedy,Musical   0883334  0844784   \n",
       "1              30  Action,Adventure,Animation   2291816  1707665   \n",
       "2              44     Documentary,History,War   0414025  0414025   \n",
       "3              84                       Drama   2977268  2977268   \n",
       "4             130                Comedy,Drama   2366663  4290500   \n",
       "\n",
       "   seasonNumber  episodeNumber  ordering  \n",
       "0           0.0            1.0       3.0  \n",
       "1           1.0            7.0       5.0  \n",
       "2           1.0            5.0       3.0  \n",
       "3           0.0            1.0       5.0  \n",
       "4           0.0            1.0       3.0  "
      ]
     },
     "execution_count": 39,
     "metadata": {},
     "output_type": "execute_result"
    }
   ],
   "source": [
    "origen.head()"
   ]
  },
  {
   "cell_type": "code",
   "execution_count": 40,
   "id": "65ca188b",
   "metadata": {},
   "outputs": [
    {
     "data": {
      "text/html": [
       "<div>\n",
       "<style scoped>\n",
       "    .dataframe tbody tr th:only-of-type {\n",
       "        vertical-align: middle;\n",
       "    }\n",
       "\n",
       "    .dataframe tbody tr th {\n",
       "        vertical-align: top;\n",
       "    }\n",
       "\n",
       "    .dataframe thead th {\n",
       "        text-align: right;\n",
       "    }\n",
       "</style>\n",
       "<table border=\"1\" class=\"dataframe\">\n",
       "  <thead>\n",
       "    <tr style=\"text-align: right;\">\n",
       "      <th></th>\n",
       "      <th>averageRating</th>\n",
       "      <th>numVotes</th>\n",
       "      <th>isAdult</th>\n",
       "      <th>startYear</th>\n",
       "      <th>endYear</th>\n",
       "      <th>runtimeMinutes</th>\n",
       "      <th>seasonNumber</th>\n",
       "      <th>episodeNumber</th>\n",
       "      <th>ordering</th>\n",
       "    </tr>\n",
       "  </thead>\n",
       "  <tbody>\n",
       "    <tr>\n",
       "      <th>count</th>\n",
       "      <td>977539.000000</td>\n",
       "      <td>9.775390e+05</td>\n",
       "      <td>977539.000000</td>\n",
       "      <td>977539.000000</td>\n",
       "      <td>977539.000000</td>\n",
       "      <td>977539.000000</td>\n",
       "      <td>977539.000000</td>\n",
       "      <td>977539.000000</td>\n",
       "      <td>977539.000000</td>\n",
       "    </tr>\n",
       "    <tr>\n",
       "      <th>mean</th>\n",
       "      <td>6.881762</td>\n",
       "      <td>1.625624e+03</td>\n",
       "      <td>0.018890</td>\n",
       "      <td>1999.360241</td>\n",
       "      <td>58.196832</td>\n",
       "      <td>41.363706</td>\n",
       "      <td>2.013643</td>\n",
       "      <td>26.519635</td>\n",
       "      <td>3.181765</td>\n",
       "    </tr>\n",
       "    <tr>\n",
       "      <th>std</th>\n",
       "      <td>1.405316</td>\n",
       "      <td>2.509801e+04</td>\n",
       "      <td>0.136138</td>\n",
       "      <td>34.243116</td>\n",
       "      <td>336.455362</td>\n",
       "      <td>57.788836</td>\n",
       "      <td>8.471148</td>\n",
       "      <td>392.919380</td>\n",
       "      <td>3.178621</td>\n",
       "    </tr>\n",
       "    <tr>\n",
       "      <th>min</th>\n",
       "      <td>1.000000</td>\n",
       "      <td>5.000000e+00</td>\n",
       "      <td>0.000000</td>\n",
       "      <td>0.000000</td>\n",
       "      <td>0.000000</td>\n",
       "      <td>-22336.000000</td>\n",
       "      <td>0.000000</td>\n",
       "      <td>0.000000</td>\n",
       "      <td>1.000000</td>\n",
       "    </tr>\n",
       "    <tr>\n",
       "      <th>25%</th>\n",
       "      <td>6.100000</td>\n",
       "      <td>9.000000e+00</td>\n",
       "      <td>0.000000</td>\n",
       "      <td>1992.000000</td>\n",
       "      <td>0.000000</td>\n",
       "      <td>0.000000</td>\n",
       "      <td>0.000000</td>\n",
       "      <td>1.000000</td>\n",
       "      <td>2.000000</td>\n",
       "    </tr>\n",
       "    <tr>\n",
       "      <th>50%</th>\n",
       "      <td>7.100000</td>\n",
       "      <td>2.200000e+01</td>\n",
       "      <td>0.000000</td>\n",
       "      <td>2008.000000</td>\n",
       "      <td>0.000000</td>\n",
       "      <td>27.000000</td>\n",
       "      <td>1.000000</td>\n",
       "      <td>5.000000</td>\n",
       "      <td>3.000000</td>\n",
       "    </tr>\n",
       "    <tr>\n",
       "      <th>75%</th>\n",
       "      <td>7.900000</td>\n",
       "      <td>9.300000e+01</td>\n",
       "      <td>0.000000</td>\n",
       "      <td>2015.000000</td>\n",
       "      <td>0.000000</td>\n",
       "      <td>73.000000</td>\n",
       "      <td>2.000000</td>\n",
       "      <td>7.000000</td>\n",
       "      <td>3.000000</td>\n",
       "    </tr>\n",
       "    <tr>\n",
       "      <th>max</th>\n",
       "      <td>10.000000</td>\n",
       "      <td>2.425542e+06</td>\n",
       "      <td>1.000000</td>\n",
       "      <td>2021.000000</td>\n",
       "      <td>2022.000000</td>\n",
       "      <td>13319.000000</td>\n",
       "      <td>2012.000000</td>\n",
       "      <td>15762.000000</td>\n",
       "      <td>162.000000</td>\n",
       "    </tr>\n",
       "  </tbody>\n",
       "</table>\n",
       "</div>"
      ],
      "text/plain": [
       "       averageRating      numVotes        isAdult      startYear  \\\n",
       "count  977539.000000  9.775390e+05  977539.000000  977539.000000   \n",
       "mean        6.881762  1.625624e+03       0.018890    1999.360241   \n",
       "std         1.405316  2.509801e+04       0.136138      34.243116   \n",
       "min         1.000000  5.000000e+00       0.000000       0.000000   \n",
       "25%         6.100000  9.000000e+00       0.000000    1992.000000   \n",
       "50%         7.100000  2.200000e+01       0.000000    2008.000000   \n",
       "75%         7.900000  9.300000e+01       0.000000    2015.000000   \n",
       "max        10.000000  2.425542e+06       1.000000    2021.000000   \n",
       "\n",
       "             endYear  runtimeMinutes   seasonNumber  episodeNumber  \\\n",
       "count  977539.000000   977539.000000  977539.000000  977539.000000   \n",
       "mean       58.196832       41.363706       2.013643      26.519635   \n",
       "std       336.455362       57.788836       8.471148     392.919380   \n",
       "min         0.000000   -22336.000000       0.000000       0.000000   \n",
       "25%         0.000000        0.000000       0.000000       1.000000   \n",
       "50%         0.000000       27.000000       1.000000       5.000000   \n",
       "75%         0.000000       73.000000       2.000000       7.000000   \n",
       "max      2022.000000    13319.000000    2012.000000   15762.000000   \n",
       "\n",
       "            ordering  \n",
       "count  977539.000000  \n",
       "mean        3.181765  \n",
       "std         3.178621  \n",
       "min         1.000000  \n",
       "25%         2.000000  \n",
       "50%         3.000000  \n",
       "75%         3.000000  \n",
       "max       162.000000  "
      ]
     },
     "execution_count": 40,
     "metadata": {},
     "output_type": "execute_result"
    }
   ],
   "source": [
    "origen.describe()"
   ]
  },
  {
   "cell_type": "markdown",
   "id": "f7f9e9c6",
   "metadata": {},
   "source": [
    "We can first delete the lines where the variable 'startYear' are equals to 0. There are not a lot and they are a potential source of error. "
   ]
  },
  {
   "cell_type": "code",
   "execution_count": 41,
   "id": "9dd83ae3",
   "metadata": {},
   "outputs": [],
   "source": [
    "origen = origen[origen['startYear'] != 0]\n",
    "testear.loc[testear['startYear'] == 0, 'startYear'] = testear['startYear'].min()"
   ]
  },
  {
   "cell_type": "markdown",
   "id": "4a60c301",
   "metadata": {},
   "source": [
    "Furthermore, for all 'endYear' = 0, we take this to mean that the work is not finished. We therefore replace the 0s with the value 2023."
   ]
  },
  {
   "cell_type": "code",
   "execution_count": 42,
   "id": "fac2c57d",
   "metadata": {},
   "outputs": [
    {
     "name": "stderr",
     "output_type": "stream",
     "text": [
      "/opt/anaconda3/lib/python3.9/site-packages/pandas/core/indexing.py:1817: SettingWithCopyWarning: \n",
      "A value is trying to be set on a copy of a slice from a DataFrame.\n",
      "Try using .loc[row_indexer,col_indexer] = value instead\n",
      "\n",
      "See the caveats in the documentation: https://pandas.pydata.org/pandas-docs/stable/user_guide/indexing.html#returning-a-view-versus-a-copy\n",
      "  self._setitem_single_column(loc, value, pi)\n"
     ]
    }
   ],
   "source": [
    "origen.loc[origen['endYear'] == 0, 'endYear'] = 2023\n",
    "testear.loc[testear['endYear'] == 0, 'endYear'] = 2023"
   ]
  },
  {
   "cell_type": "markdown",
   "id": "3e8ea788",
   "metadata": {},
   "source": [
    "Some outliers are also present in the datasets. For example, the series with the maximum number of episodes contains over 15,000 in the 'origen' dataset. For all columns containing numerical values, we therefore discard values exceeding the 99 order quartile."
   ]
  },
  {
   "cell_type": "code",
   "execution_count": 43,
   "id": "91e065c2",
   "metadata": {},
   "outputs": [
    {
     "data": {
      "text/plain": [
       "Index(['averageRating', 'numVotes', 'isAdult', 'startYear', 'endYear',\n",
       "       'runtimeMinutes', 'seasonNumber', 'episodeNumber', 'ordering'],\n",
       "      dtype='object')"
      ]
     },
     "execution_count": 43,
     "metadata": {},
     "output_type": "execute_result"
    }
   ],
   "source": [
    "origen.select_dtypes(include=['int64', 'float64']).columns"
   ]
  },
  {
   "cell_type": "code",
   "execution_count": 44,
   "id": "8689fbc3",
   "metadata": {},
   "outputs": [],
   "source": [
    "threshold_99 = origen['numVotes'].quantile(0.99)\n",
    "origen = origen[origen['numVotes'] <= threshold_99]\n",
    "#threshold_99 = testear['numVotes'].quantile(0.99)\n",
    "#testear = testear[testear['numVotes'] <= threshold_99]\n",
    "\n",
    "threshold_99 = origen['runtimeMinutes'].quantile(0.99)\n",
    "origen = origen[origen['runtimeMinutes'] <= threshold_99]\n",
    "#threshold_99 = testear['runtimeMinutes'].quantile(0.99)\n",
    "#testear = testear[testear['runtimeMinutes'] <= threshold_99]\n",
    "\n",
    "threshold_01 = origen['runtimeMinutes'].quantile(0.01)\n",
    "origen = origen[origen['runtimeMinutes'] >= threshold_01]\n",
    "#threshold_01 = testear['runtimeMinutes'].quantile(0.01)\n",
    "#testear = testear[testear['runtimeMinutes'] >= threshold_01]\n",
    "\n",
    "threshold_99 = origen['episodeNumber'].quantile(0.99)\n",
    "origen = origen[origen['episodeNumber'] <= threshold_99]\n",
    "#threshold_99 = testear['episodeNumber'].quantile(0.99)\n",
    "#testear = testear[testear['episodeNumber'] <= threshold_99]\n",
    "\n",
    "threshold_99 = origen['seasonNumber'].quantile(0.99)\n",
    "origen = origen[origen['seasonNumber'] <= threshold_99]\n",
    "#threshold_99 = testear['seasonNumber'].quantile(0.99)\n",
    "#testear = testear[testear['seasonNumber'] <= threshold_99]\n",
    "\n",
    "threshold_99 = origen['ordering'].quantile(0.99)\n",
    "origen = origen[origen['ordering'] <= threshold_99]\n",
    "#threshold_99 = testear['ordering'].quantile(0.99)\n",
    "#testear = testear[testear['ordering'] <= threshold_99]"
   ]
  },
  {
   "cell_type": "code",
   "execution_count": 45,
   "id": "3af9846d",
   "metadata": {},
   "outputs": [
    {
     "data": {
      "text/html": [
       "<div>\n",
       "<style scoped>\n",
       "    .dataframe tbody tr th:only-of-type {\n",
       "        vertical-align: middle;\n",
       "    }\n",
       "\n",
       "    .dataframe tbody tr th {\n",
       "        vertical-align: top;\n",
       "    }\n",
       "\n",
       "    .dataframe thead th {\n",
       "        text-align: right;\n",
       "    }\n",
       "</style>\n",
       "<table border=\"1\" class=\"dataframe\">\n",
       "  <thead>\n",
       "    <tr style=\"text-align: right;\">\n",
       "      <th></th>\n",
       "      <th>averageRating</th>\n",
       "      <th>numVotes</th>\n",
       "      <th>isAdult</th>\n",
       "      <th>startYear</th>\n",
       "      <th>endYear</th>\n",
       "      <th>runtimeMinutes</th>\n",
       "      <th>seasonNumber</th>\n",
       "      <th>episodeNumber</th>\n",
       "      <th>ordering</th>\n",
       "    </tr>\n",
       "  </thead>\n",
       "  <tbody>\n",
       "    <tr>\n",
       "      <th>count</th>\n",
       "      <td>930926.000000</td>\n",
       "      <td>930926.000000</td>\n",
       "      <td>930926.000000</td>\n",
       "      <td>930926.000000</td>\n",
       "      <td>930926.000000</td>\n",
       "      <td>930926.000000</td>\n",
       "      <td>930926.000000</td>\n",
       "      <td>930926.000000</td>\n",
       "      <td>930926.000000</td>\n",
       "    </tr>\n",
       "    <tr>\n",
       "      <th>mean</th>\n",
       "      <td>6.882709</td>\n",
       "      <td>240.564321</td>\n",
       "      <td>0.018888</td>\n",
       "      <td>1999.689399</td>\n",
       "      <td>2022.449463</td>\n",
       "      <td>38.553278</td>\n",
       "      <td>1.706227</td>\n",
       "      <td>7.724065</td>\n",
       "      <td>2.854125</td>\n",
       "    </tr>\n",
       "    <tr>\n",
       "      <th>std</th>\n",
       "      <td>1.412654</td>\n",
       "      <td>1028.181192</td>\n",
       "      <td>0.136128</td>\n",
       "      <td>22.092802</td>\n",
       "      <td>4.225490</td>\n",
       "      <td>38.186920</td>\n",
       "      <td>2.972413</td>\n",
       "      <td>13.665374</td>\n",
       "      <td>1.546893</td>\n",
       "    </tr>\n",
       "    <tr>\n",
       "      <th>min</th>\n",
       "      <td>1.000000</td>\n",
       "      <td>5.000000</td>\n",
       "      <td>0.000000</td>\n",
       "      <td>1874.000000</td>\n",
       "      <td>1933.000000</td>\n",
       "      <td>0.000000</td>\n",
       "      <td>0.000000</td>\n",
       "      <td>0.000000</td>\n",
       "      <td>1.000000</td>\n",
       "    </tr>\n",
       "    <tr>\n",
       "      <th>25%</th>\n",
       "      <td>6.100000</td>\n",
       "      <td>9.000000</td>\n",
       "      <td>0.000000</td>\n",
       "      <td>1992.000000</td>\n",
       "      <td>2023.000000</td>\n",
       "      <td>0.000000</td>\n",
       "      <td>0.000000</td>\n",
       "      <td>1.000000</td>\n",
       "      <td>2.000000</td>\n",
       "    </tr>\n",
       "    <tr>\n",
       "      <th>50%</th>\n",
       "      <td>7.100000</td>\n",
       "      <td>22.000000</td>\n",
       "      <td>0.000000</td>\n",
       "      <td>2008.000000</td>\n",
       "      <td>2023.000000</td>\n",
       "      <td>25.000000</td>\n",
       "      <td>1.000000</td>\n",
       "      <td>5.000000</td>\n",
       "      <td>3.000000</td>\n",
       "    </tr>\n",
       "    <tr>\n",
       "      <th>75%</th>\n",
       "      <td>7.900000</td>\n",
       "      <td>84.000000</td>\n",
       "      <td>0.000000</td>\n",
       "      <td>2015.000000</td>\n",
       "      <td>2023.000000</td>\n",
       "      <td>66.000000</td>\n",
       "      <td>2.000000</td>\n",
       "      <td>7.000000</td>\n",
       "      <td>3.000000</td>\n",
       "    </tr>\n",
       "    <tr>\n",
       "      <th>max</th>\n",
       "      <td>10.000000</td>\n",
       "      <td>19169.000000</td>\n",
       "      <td>1.000000</td>\n",
       "      <td>2021.000000</td>\n",
       "      <td>2023.000000</td>\n",
       "      <td>163.000000</td>\n",
       "      <td>22.000000</td>\n",
       "      <td>145.000000</td>\n",
       "      <td>15.000000</td>\n",
       "    </tr>\n",
       "  </tbody>\n",
       "</table>\n",
       "</div>"
      ],
      "text/plain": [
       "       averageRating       numVotes        isAdult      startYear  \\\n",
       "count  930926.000000  930926.000000  930926.000000  930926.000000   \n",
       "mean        6.882709     240.564321       0.018888    1999.689399   \n",
       "std         1.412654    1028.181192       0.136128      22.092802   \n",
       "min         1.000000       5.000000       0.000000    1874.000000   \n",
       "25%         6.100000       9.000000       0.000000    1992.000000   \n",
       "50%         7.100000      22.000000       0.000000    2008.000000   \n",
       "75%         7.900000      84.000000       0.000000    2015.000000   \n",
       "max        10.000000   19169.000000       1.000000    2021.000000   \n",
       "\n",
       "             endYear  runtimeMinutes   seasonNumber  episodeNumber  \\\n",
       "count  930926.000000   930926.000000  930926.000000  930926.000000   \n",
       "mean     2022.449463       38.553278       1.706227       7.724065   \n",
       "std         4.225490       38.186920       2.972413      13.665374   \n",
       "min      1933.000000        0.000000       0.000000       0.000000   \n",
       "25%      2023.000000        0.000000       0.000000       1.000000   \n",
       "50%      2023.000000       25.000000       1.000000       5.000000   \n",
       "75%      2023.000000       66.000000       2.000000       7.000000   \n",
       "max      2023.000000      163.000000      22.000000     145.000000   \n",
       "\n",
       "            ordering  \n",
       "count  930926.000000  \n",
       "mean        2.854125  \n",
       "std         1.546893  \n",
       "min         1.000000  \n",
       "25%         2.000000  \n",
       "50%         3.000000  \n",
       "75%         3.000000  \n",
       "max        15.000000  "
      ]
     },
     "execution_count": 45,
     "metadata": {},
     "output_type": "execute_result"
    }
   ],
   "source": [
    "origen.describe()"
   ]
  },
  {
   "cell_type": "code",
   "execution_count": 46,
   "id": "714b41df",
   "metadata": {},
   "outputs": [
    {
     "name": "stdout",
     "output_type": "stream",
     "text": [
      "<class 'pandas.core.frame.DataFrame'>\n",
      "Int64Index: 930926 entries, 0 to 977540\n",
      "Data columns (total 13 columns):\n",
      " #   Column          Non-Null Count   Dtype  \n",
      "---  ------          --------------   -----  \n",
      " 0   averageRating   930926 non-null  float64\n",
      " 1   numVotes        930926 non-null  int64  \n",
      " 2   titleType       930926 non-null  object \n",
      " 3   isAdult         930926 non-null  float64\n",
      " 4   startYear       930926 non-null  int64  \n",
      " 5   endYear         930926 non-null  int64  \n",
      " 6   runtimeMinutes  930926 non-null  int64  \n",
      " 7   genres_x        930926 non-null  object \n",
      " 8   directors       930926 non-null  object \n",
      " 9   writers         930926 non-null  object \n",
      " 10  seasonNumber    930926 non-null  float64\n",
      " 11  episodeNumber   930926 non-null  float64\n",
      " 12  ordering        930926 non-null  float64\n",
      "dtypes: float64(5), int64(4), object(4)\n",
      "memory usage: 99.4+ MB\n",
      "<class 'pandas.core.frame.DataFrame'>\n",
      "Int64Index: 244386 entries, 0 to 244385\n",
      "Data columns (total 12 columns):\n",
      " #   Column          Non-Null Count   Dtype  \n",
      "---  ------          --------------   -----  \n",
      " 0   numVotes        244386 non-null  int64  \n",
      " 1   titleType       244386 non-null  object \n",
      " 2   isAdult         244386 non-null  float64\n",
      " 3   startYear       244386 non-null  int64  \n",
      " 4   endYear         244386 non-null  int64  \n",
      " 5   runtimeMinutes  244386 non-null  int64  \n",
      " 6   genres_x        244386 non-null  object \n",
      " 7   directors       244386 non-null  object \n",
      " 8   writers         244386 non-null  object \n",
      " 9   seasonNumber    244386 non-null  float64\n",
      " 10  episodeNumber   244386 non-null  float64\n",
      " 11  ordering        244386 non-null  float64\n",
      "dtypes: float64(4), int64(4), object(4)\n",
      "memory usage: 24.2+ MB\n"
     ]
    }
   ],
   "source": [
    "origen.info()\n",
    "testear.info()"
   ]
  },
  {
   "cell_type": "code",
   "execution_count": 47,
   "id": "5852f8c3",
   "metadata": {},
   "outputs": [
    {
     "name": "stdout",
     "output_type": "stream",
     "text": [
      "averageRating     0\n",
      "numVotes          0\n",
      "titleType         0\n",
      "isAdult           0\n",
      "startYear         0\n",
      "endYear           0\n",
      "runtimeMinutes    0\n",
      "genres_x          0\n",
      "directors         0\n",
      "writers           0\n",
      "seasonNumber      0\n",
      "episodeNumber     0\n",
      "ordering          0\n",
      "dtype: int64 \n",
      " \n",
      " numVotes          0\n",
      "titleType         0\n",
      "isAdult           0\n",
      "startYear         0\n",
      "endYear           0\n",
      "runtimeMinutes    0\n",
      "genres_x          0\n",
      "directors         0\n",
      "writers           0\n",
      "seasonNumber      0\n",
      "episodeNumber     0\n",
      "ordering          0\n",
      "dtype: int64\n"
     ]
    }
   ],
   "source": [
    "print(origen.isna().sum(),\"\\n \\n\",testear.isna().sum())"
   ]
  },
  {
   "cell_type": "code",
   "execution_count": 48,
   "id": "0b2cb96a",
   "metadata": {},
   "outputs": [
    {
     "name": "stdout",
     "output_type": "stream",
     "text": [
      "averageRating     float64\n",
      "numVotes            int64\n",
      "titleType          object\n",
      "isAdult           float64\n",
      "startYear           int64\n",
      "endYear             int64\n",
      "runtimeMinutes      int64\n",
      "genres_x           object\n",
      "directors          object\n",
      "writers            object\n",
      "seasonNumber      float64\n",
      "episodeNumber     float64\n",
      "ordering          float64\n",
      "dtype: object \n",
      " \n",
      " numVotes            int64\n",
      "titleType          object\n",
      "isAdult           float64\n",
      "startYear           int64\n",
      "endYear             int64\n",
      "runtimeMinutes      int64\n",
      "genres_x           object\n",
      "directors          object\n",
      "writers            object\n",
      "seasonNumber      float64\n",
      "episodeNumber     float64\n",
      "ordering          float64\n",
      "dtype: object\n"
     ]
    }
   ],
   "source": [
    "print(origen.dtypes, \"\\n \\n\", testear.dtypes)"
   ]
  },
  {
   "cell_type": "markdown",
   "id": "6ef843de",
   "metadata": {},
   "source": [
    "Now that we've cleaned up our dataset, we can create the samples on which we'll apply our models."
   ]
  },
  {
   "cell_type": "markdown",
   "id": "5503568e",
   "metadata": {},
   "source": [
    "## Creation of the test / validation samples\n",
    "\n",
    "We simply create our samples from our two datasets. For the first, we create a dataframe X containing the values of the explanatory variables and a dataframe y containing the variable to be explained. The second dataset obviously produces only a dataframe similar to X and is subsequently manipulated according to X."
   ]
  },
  {
   "cell_type": "code",
   "execution_count": 49,
   "id": "8a4fecdb",
   "metadata": {},
   "outputs": [],
   "source": [
    "X = origen.drop('averageRating', axis=1)\n",
    "y = origen['averageRating']\n",
    "\n",
    "X_testear = testear"
   ]
  },
  {
   "cell_type": "markdown",
   "id": "3293e91e",
   "metadata": {},
   "source": [
    "We will now encode the variables 'titleType' and 'genres_x' using dummy encoding. Dummy encoding, or \"one-hot encoding\", is a technique used to convert categorical variables into a form that can be provided to machine learning algorithms for modeling."
   ]
  },
  {
   "cell_type": "code",
   "execution_count": 50,
   "id": "4323c0c9",
   "metadata": {},
   "outputs": [],
   "source": [
    "# Encoding of titleType\n",
    "X = pd.get_dummies(X, columns=['titleType'], prefix=['titleType'])\n",
    "X_testear = pd.get_dummies(X_testear, columns=['titleType'], prefix=['titleType'])\n",
    "\n",
    "# Encoding of genres_x\n",
    "X['genres_x'] = X['genres_x'].str.split(',')\n",
    "X_testear['genres_x'] = X_testear['genres_x'].str.split(',')\n",
    "\n",
    "unique_genres = set(genre for genres in X['genres_x'] for genre in genres)\n",
    "for genre in unique_genres:\n",
    "    X[genre] = X['genres_x'].apply(lambda genres: 1 if genre in genres else 0)\n",
    "    X_testear[genre] = X_testear['genres_x'].apply(lambda genres: 1 if genre in genres else 0)\n",
    "    \n",
    "X.drop('genres_x', axis=1, inplace=True)   \n",
    "X_testear.drop('genres_x', axis=1, inplace=True)"
   ]
  },
  {
   "cell_type": "markdown",
   "id": "c1e8d20e",
   "metadata": {},
   "source": [
    "## Application of the model : choice of Random Forest\n",
    "\n",
    "For modeling purposes, we use the Random Forest Regressor model. We transform samples specifically for this method. Other models have been tested, but are not included in this code due to lack of interest.  "
   ]
  },
  {
   "cell_type": "code",
   "execution_count": 51,
   "id": "4366ebd5",
   "metadata": {},
   "outputs": [],
   "source": [
    "X_rf = X\n",
    "X_rf_testear = X_testear\n",
    "y_rf = y\n",
    "\n",
    "# Split the data into training and testing sets\n",
    "X_rf_train, X_rf_test, y_rf_train, y_rf_test = train_test_split(X_rf, y_rf, test_size=0.2, random_state=42)"
   ]
  },
  {
   "cell_type": "code",
   "execution_count": 52,
   "id": "295f5fc5",
   "metadata": {},
   "outputs": [],
   "source": [
    "model_rf = RandomForestRegressor(random_state=42)\n",
    "\n",
    "\n",
    "# Define the grid for the paramaters to explore\n",
    "param_dist = {\n",
    "    'n_estimators': [100,110],\n",
    "    'max_depth': [35]\n",
    "\n",
    "}"
   ]
  },
  {
   "cell_type": "markdown",
   "id": "619d6c19",
   "metadata": {},
   "source": [
    "Below are some lines of code based on the use of techniques such as grid search. GridSearchCV's functions explore different combinations of hyperparameters and use cross-validation to evaluate the performance of each combination. Once the search is complete, the best parameters are available. The code is left in comments as it takes a long time to run, and its results are exploited in the following section."
   ]
  },
  {
   "cell_type": "code",
   "execution_count": 62,
   "id": "d457ae33",
   "metadata": {},
   "outputs": [],
   "source": [
    "#random_search = RandomizedSearchCV(model_rf, param_distributions=param_dist, \n",
    "#                                   n_iter=20, cv=3, scoring='neg_mean_squared_error', random_state=42, n_jobs=-1)\n",
    "#random_search.fit(X_rf_train, y_rf_train)"
   ]
  },
  {
   "cell_type": "code",
   "execution_count": 60,
   "id": "0e70e901",
   "metadata": {},
   "outputs": [],
   "source": [
    "# Print the best parameters\n",
    "#best_params = grid_search.best_params_\n",
    "#best_params = random_search.best_params_\n",
    "#print(f\"Best parameters : {best_params}\")"
   ]
  },
  {
   "cell_type": "code",
   "execution_count": 61,
   "id": "823cdeb0",
   "metadata": {},
   "outputs": [],
   "source": [
    "# Make predictions on X_test with the best parameters\n",
    "#y_rf_pred = grid_search.best_estimator_.predict(X_rf_test)\n",
    "#y_rf_pred = random_search.best_estimator_.predict(X_test)"
   ]
  },
  {
   "cell_type": "code",
   "execution_count": 169,
   "id": "177d5107",
   "metadata": {},
   "outputs": [
    {
     "name": "stdout",
     "output_type": "stream",
     "text": [
      "Mean Squared Error: 1.018915966132119\n",
      "R-squared: 0.4887007548470301\n"
     ]
    }
   ],
   "source": [
    "# Evaluate the model performance\n",
    "#mse_rf = mean_squared_error(y_rf_test, y_rf_pred)\n",
    "#r2_rf = r2_score(y_rf_test, y_rf_pred)\n",
    "\n",
    "#print(f\"Mean Squared Error: {mse_rf}\")\n",
    "#print(f\"R-squared: {r2_rf}\")"
   ]
  },
  {
   "cell_type": "markdown",
   "id": "11cce03b",
   "metadata": {},
   "source": [
    "We then apply these parameters on our model."
   ]
  },
  {
   "cell_type": "code",
   "execution_count": 53,
   "id": "bf6e8afe",
   "metadata": {},
   "outputs": [],
   "source": [
    "model_rf = RandomForestRegressor(n_estimators=150, max_depth=35,random_state=42)"
   ]
  },
  {
   "cell_type": "code",
   "execution_count": 54,
   "id": "ecf6f441",
   "metadata": {},
   "outputs": [
    {
     "data": {
      "text/html": [
       "<style>#sk-container-id-1 {color: black;}#sk-container-id-1 pre{padding: 0;}#sk-container-id-1 div.sk-toggleable {background-color: white;}#sk-container-id-1 label.sk-toggleable__label {cursor: pointer;display: block;width: 100%;margin-bottom: 0;padding: 0.3em;box-sizing: border-box;text-align: center;}#sk-container-id-1 label.sk-toggleable__label-arrow:before {content: \"▸\";float: left;margin-right: 0.25em;color: #696969;}#sk-container-id-1 label.sk-toggleable__label-arrow:hover:before {color: black;}#sk-container-id-1 div.sk-estimator:hover label.sk-toggleable__label-arrow:before {color: black;}#sk-container-id-1 div.sk-toggleable__content {max-height: 0;max-width: 0;overflow: hidden;text-align: left;background-color: #f0f8ff;}#sk-container-id-1 div.sk-toggleable__content pre {margin: 0.2em;color: black;border-radius: 0.25em;background-color: #f0f8ff;}#sk-container-id-1 input.sk-toggleable__control:checked~div.sk-toggleable__content {max-height: 200px;max-width: 100%;overflow: auto;}#sk-container-id-1 input.sk-toggleable__control:checked~label.sk-toggleable__label-arrow:before {content: \"▾\";}#sk-container-id-1 div.sk-estimator input.sk-toggleable__control:checked~label.sk-toggleable__label {background-color: #d4ebff;}#sk-container-id-1 div.sk-label input.sk-toggleable__control:checked~label.sk-toggleable__label {background-color: #d4ebff;}#sk-container-id-1 input.sk-hidden--visually {border: 0;clip: rect(1px 1px 1px 1px);clip: rect(1px, 1px, 1px, 1px);height: 1px;margin: -1px;overflow: hidden;padding: 0;position: absolute;width: 1px;}#sk-container-id-1 div.sk-estimator {font-family: monospace;background-color: #f0f8ff;border: 1px dotted black;border-radius: 0.25em;box-sizing: border-box;margin-bottom: 0.5em;}#sk-container-id-1 div.sk-estimator:hover {background-color: #d4ebff;}#sk-container-id-1 div.sk-parallel-item::after {content: \"\";width: 100%;border-bottom: 1px solid gray;flex-grow: 1;}#sk-container-id-1 div.sk-label:hover label.sk-toggleable__label {background-color: #d4ebff;}#sk-container-id-1 div.sk-serial::before {content: \"\";position: absolute;border-left: 1px solid gray;box-sizing: border-box;top: 0;bottom: 0;left: 50%;z-index: 0;}#sk-container-id-1 div.sk-serial {display: flex;flex-direction: column;align-items: center;background-color: white;padding-right: 0.2em;padding-left: 0.2em;position: relative;}#sk-container-id-1 div.sk-item {position: relative;z-index: 1;}#sk-container-id-1 div.sk-parallel {display: flex;align-items: stretch;justify-content: center;background-color: white;position: relative;}#sk-container-id-1 div.sk-item::before, #sk-container-id-1 div.sk-parallel-item::before {content: \"\";position: absolute;border-left: 1px solid gray;box-sizing: border-box;top: 0;bottom: 0;left: 50%;z-index: -1;}#sk-container-id-1 div.sk-parallel-item {display: flex;flex-direction: column;z-index: 1;position: relative;background-color: white;}#sk-container-id-1 div.sk-parallel-item:first-child::after {align-self: flex-end;width: 50%;}#sk-container-id-1 div.sk-parallel-item:last-child::after {align-self: flex-start;width: 50%;}#sk-container-id-1 div.sk-parallel-item:only-child::after {width: 0;}#sk-container-id-1 div.sk-dashed-wrapped {border: 1px dashed gray;margin: 0 0.4em 0.5em 0.4em;box-sizing: border-box;padding-bottom: 0.4em;background-color: white;}#sk-container-id-1 div.sk-label label {font-family: monospace;font-weight: bold;display: inline-block;line-height: 1.2em;}#sk-container-id-1 div.sk-label-container {text-align: center;}#sk-container-id-1 div.sk-container {/* jupyter's `normalize.less` sets `[hidden] { display: none; }` but bootstrap.min.css set `[hidden] { display: none !important; }` so we also need the `!important` here to be able to override the default hidden behavior on the sphinx rendered scikit-learn.org. See: https://github.com/scikit-learn/scikit-learn/issues/21755 */display: inline-block !important;position: relative;}#sk-container-id-1 div.sk-text-repr-fallback {display: none;}</style><div id=\"sk-container-id-1\" class=\"sk-top-container\"><div class=\"sk-text-repr-fallback\"><pre>RandomForestRegressor(max_depth=35, n_estimators=150, random_state=42)</pre><b>In a Jupyter environment, please rerun this cell to show the HTML representation or trust the notebook. <br />On GitHub, the HTML representation is unable to render, please try loading this page with nbviewer.org.</b></div><div class=\"sk-container\" hidden><div class=\"sk-item\"><div class=\"sk-estimator sk-toggleable\"><input class=\"sk-toggleable__control sk-hidden--visually\" id=\"sk-estimator-id-1\" type=\"checkbox\" checked><label for=\"sk-estimator-id-1\" class=\"sk-toggleable__label sk-toggleable__label-arrow\">RandomForestRegressor</label><div class=\"sk-toggleable__content\"><pre>RandomForestRegressor(max_depth=35, n_estimators=150, random_state=42)</pre></div></div></div></div></div>"
      ],
      "text/plain": [
       "RandomForestRegressor(max_depth=35, n_estimators=150, random_state=42)"
      ]
     },
     "execution_count": 54,
     "metadata": {},
     "output_type": "execute_result"
    }
   ],
   "source": [
    "model_rf.fit(X_rf_train, y_rf_train)"
   ]
  },
  {
   "cell_type": "code",
   "execution_count": 55,
   "id": "369acf8c",
   "metadata": {},
   "outputs": [],
   "source": [
    "# Fais des prédictions sur les données de test\n",
    "y_rf_pred = model_rf.predict(X_rf_test)"
   ]
  },
  {
   "cell_type": "code",
   "execution_count": 56,
   "id": "02161fb1",
   "metadata": {},
   "outputs": [
    {
     "name": "stdout",
     "output_type": "stream",
     "text": [
      "Mean Squared Error: 1.0187263991971172\n",
      "R-squared: 0.4887958808770406\n"
     ]
    }
   ],
   "source": [
    "# Évalue les performances du modèle\n",
    "mse_rf = mean_squared_error(y_rf_test, y_rf_pred)\n",
    "r2_rf = r2_score(y_rf_test, y_rf_pred)\n",
    "\n",
    "print(f\"Mean Squared Error: {mse_rf}\")\n",
    "print(f\"R-squared: {r2_rf}\")"
   ]
  },
  {
   "cell_type": "markdown",
   "id": "0d277be1",
   "metadata": {},
   "source": [
    "Now that our model is ready, we can use it on the dataset testear."
   ]
  },
  {
   "cell_type": "code",
   "execution_count": 57,
   "id": "bc2b18c9",
   "metadata": {},
   "outputs": [
    {
     "name": "stdout",
     "output_type": "stream",
     "text": [
      "Predictions for other data:\n",
      "[7.3216151  7.63858762 4.53087962 ... 5.40817865 7.35305365 5.228     ]\n"
     ]
    }
   ],
   "source": [
    "# Predict using the trained model\n",
    "y_pred_testear_rf = model_rf.predict(X_rf_testear)\n",
    "# Print the predictions for the other data\n",
    "print(\"Predictions for other data:\")\n",
    "print(y_pred_testear_rf)\n",
    "\n",
    "Yest_rf = model_rf.predict(X_rf_testear)"
   ]
  },
  {
   "cell_type": "markdown",
   "id": "731c7d1a",
   "metadata": {},
   "source": [
    "Finally we can download the file for the submission."
   ]
  },
  {
   "cell_type": "code",
   "execution_count": 58,
   "id": "6cc7b417",
   "metadata": {},
   "outputs": [],
   "source": [
    "salida = pd.DataFrame(data={\"averageRating\": Yest_rf}).astype(str)\n",
    "salida2 = pd.DataFrame(data={\"averageRating\": Yest_rf}).astype(float)\n",
    "salida.index = testear.index\n",
    "salida.to_csv(\"submission.csv\", sep=',',index=True,  index_label='Id')"
   ]
  },
  {
   "cell_type": "markdown",
   "id": "cbc1f94c",
   "metadata": {},
   "source": [
    "Here we compare the results of the prediction and the real values of the variable 'averageRating' in the dataset 'origen'. "
   ]
  },
  {
   "cell_type": "code",
   "execution_count": 59,
   "id": "e975a2de",
   "metadata": {},
   "outputs": [
    {
     "data": {
      "image/png": "[encoded data removed]",
      "text/plain": [
       "<Figure size 720x432 with 1 Axes>"
      ]
     },
     "metadata": {
      "needs_background": "light"
     },
     "output_type": "display_data"
    }
   ],
   "source": [
    "salida2['averageRating'] = [round(nombre, 2) for nombre in salida2['averageRating']]\n",
    "plt.figure(figsize=(10, 6))\n",
    "plt.title('Vizualisation of the average rating')\n",
    "plt.xlabel('Rating')\n",
    "plt.ylabel('Number of rating')\n",
    "plt.hist(origen['averageRating'], label='Origen')\n",
    "plt.hist(salida2['averageRating'], label='Testear')\n",
    "plt.legend()\n",
    "plt.show()"
   ]
  },
  {
   "cell_type": "markdown",
   "id": "f034b45c",
   "metadata": {},
   "source": [
    "The benefits of Random Forest Regressor and why we choose it :\n",
    "\n",
    "Robustness to noisy data: Random forests are relatively robust to noisy data and outliers. They can work well even if our dataset contains noise or errors. Here, even if our dataset has been cleaned, it's still a good idea to guard against possible errors. \n",
    "\n",
    "Handling large numbers of features: Our dataset contains a large number of features, and a random forest model is often efficient without requiring much pre-processing.\n",
    "\n",
    "Ability to capture non-linear relationships: Random forests are able to model complex, non-linear relationships between features and the target variable, which can be crucial for certain data analysis tasks.\n",
    "\n",
    "Reduced overfitting: They have a lower tendency to overfit than a single decision tree. By using multiple trees and averaging their predictions, random forests reduce the risk of overfitting.\n",
    "\n",
    "Ability to handle missing data : Random forests can naturally handle missing data without requiring much pre-processing, which may correspond to our testear dataset.\n",
    "\n",
    "Generally high performance: In general, random forests offer good predictive performance in a variety of domains without requiring fine-tuning of hyperparameters.\n",
    "\n",
    "Computation time: Some models, such as complex neural networks or deep learning methods, can require significant computational resources. Since computation time is a constraint in our case (low-performance computer, short deadline), RandomForestRegressor was a good solution.\n",
    "\n",
    "Dependence on hyperparameters: RandomForestRegressor is not very dependent on the setting of hyperparameters, unlike other methods such as Support Vector Machines (SVM). This dependency requires numerous tests to adjust the parameters, which is both resource-intensive and time-consuming.\n"
   ]
  }
 ],
 "metadata": {
  "kernelspec": {
   "display_name": "Python 3 (ipykernel)",
   "language": "python",
   "name": "python3"
  },
  "language_info": {
   "codemirror_mode": {
    "name": "ipython",
    "version": 3
   },
   "file_extension": ".py",
   "mimetype": "text/x-python",
   "name": "python",
   "nbconvert_exporter": "python",
   "pygments_lexer": "ipython3",
   "version": "3.9.7"
  }
 },
 "nbformat": 4,
 "nbformat_minor": 5
}
